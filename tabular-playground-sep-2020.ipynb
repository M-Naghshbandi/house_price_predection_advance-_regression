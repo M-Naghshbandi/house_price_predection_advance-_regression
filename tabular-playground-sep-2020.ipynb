{
 "cells": [
  {
   "cell_type": "markdown",
   "id": "87553599",
   "metadata": {
    "papermill": {
     "duration": 0.010513,
     "end_time": "2022-08-23T08:15:27.600221",
     "exception": false,
     "start_time": "2022-08-23T08:15:27.589708",
     "status": "completed"
    },
    "tags": []
   },
   "source": [
    "# load libraies"
   ]
  },
  {
   "cell_type": "code",
   "execution_count": 1,
   "id": "93510c0e",
   "metadata": {
    "execution": {
     "iopub.execute_input": "2022-08-23T08:15:27.621668Z",
     "iopub.status.busy": "2022-08-23T08:15:27.620819Z",
     "iopub.status.idle": "2022-08-23T08:15:28.702126Z",
     "shell.execute_reply": "2022-08-23T08:15:28.701122Z"
    },
    "papermill": {
     "duration": 1.095229,
     "end_time": "2022-08-23T08:15:28.705137",
     "exception": false,
     "start_time": "2022-08-23T08:15:27.609908",
     "status": "completed"
    },
    "tags": []
   },
   "outputs": [],
   "source": [
    "import pandas as pd \n",
    "import numpy as np\n",
    "import matplotlib.pyplot as plt\n",
    "from sklearn.model_selection import train_test_split\n",
    "from sklearn import preprocessing\n",
    "import seaborn as sns\n",
    "from xgboost import XGBClassifier\n",
    "\n",
    "from sklearn.metrics import accuracy_score\n"
   ]
  },
  {
   "cell_type": "markdown",
   "id": "fcd0e04f",
   "metadata": {
    "papermill": {
     "duration": 0.010635,
     "end_time": "2022-08-23T08:15:28.725497",
     "exception": false,
     "start_time": "2022-08-23T08:15:28.714862",
     "status": "completed"
    },
    "tags": []
   },
   "source": [
    "# load data"
   ]
  },
  {
   "cell_type": "code",
   "execution_count": 2,
   "id": "6667fab9",
   "metadata": {
    "execution": {
     "iopub.execute_input": "2022-08-23T08:15:28.746228Z",
     "iopub.status.busy": "2022-08-23T08:15:28.745323Z",
     "iopub.status.idle": "2022-08-23T08:15:54.851136Z",
     "shell.execute_reply": "2022-08-23T08:15:54.850137Z"
    },
    "papermill": {
     "duration": 26.118871,
     "end_time": "2022-08-23T08:15:54.853685",
     "exception": false,
     "start_time": "2022-08-23T08:15:28.734814",
     "status": "completed"
    },
    "tags": []
   },
   "outputs": [
    {
     "data": {
      "text/html": [
       "<div>\n",
       "<style scoped>\n",
       "    .dataframe tbody tr th:only-of-type {\n",
       "        vertical-align: middle;\n",
       "    }\n",
       "\n",
       "    .dataframe tbody tr th {\n",
       "        vertical-align: top;\n",
       "    }\n",
       "\n",
       "    .dataframe thead th {\n",
       "        text-align: right;\n",
       "    }\n",
       "</style>\n",
       "<table border=\"1\" class=\"dataframe\">\n",
       "  <thead>\n",
       "    <tr style=\"text-align: right;\">\n",
       "      <th></th>\n",
       "      <th>id</th>\n",
       "      <th>f1</th>\n",
       "      <th>f2</th>\n",
       "      <th>f3</th>\n",
       "      <th>f4</th>\n",
       "      <th>f5</th>\n",
       "      <th>f6</th>\n",
       "      <th>f7</th>\n",
       "      <th>f8</th>\n",
       "      <th>f9</th>\n",
       "      <th>...</th>\n",
       "      <th>f110</th>\n",
       "      <th>f111</th>\n",
       "      <th>f112</th>\n",
       "      <th>f113</th>\n",
       "      <th>f114</th>\n",
       "      <th>f115</th>\n",
       "      <th>f116</th>\n",
       "      <th>f117</th>\n",
       "      <th>f118</th>\n",
       "      <th>claim</th>\n",
       "    </tr>\n",
       "  </thead>\n",
       "  <tbody>\n",
       "    <tr>\n",
       "      <th>0</th>\n",
       "      <td>0</td>\n",
       "      <td>0.10859</td>\n",
       "      <td>0.004314</td>\n",
       "      <td>-37.566</td>\n",
       "      <td>0.017364</td>\n",
       "      <td>0.28915</td>\n",
       "      <td>-10.25100</td>\n",
       "      <td>135.12</td>\n",
       "      <td>168900.0</td>\n",
       "      <td>3.992400e+14</td>\n",
       "      <td>...</td>\n",
       "      <td>-12.2280</td>\n",
       "      <td>1.7482</td>\n",
       "      <td>1.90960</td>\n",
       "      <td>-7.11570</td>\n",
       "      <td>4378.80</td>\n",
       "      <td>1.2096</td>\n",
       "      <td>8.613400e+14</td>\n",
       "      <td>140.1</td>\n",
       "      <td>1.01770</td>\n",
       "      <td>1</td>\n",
       "    </tr>\n",
       "    <tr>\n",
       "      <th>1</th>\n",
       "      <td>1</td>\n",
       "      <td>0.10090</td>\n",
       "      <td>0.299610</td>\n",
       "      <td>11822.000</td>\n",
       "      <td>0.276500</td>\n",
       "      <td>0.45970</td>\n",
       "      <td>-0.83733</td>\n",
       "      <td>1721.90</td>\n",
       "      <td>119810.0</td>\n",
       "      <td>3.874100e+15</td>\n",
       "      <td>...</td>\n",
       "      <td>-56.7580</td>\n",
       "      <td>4.1684</td>\n",
       "      <td>0.34808</td>\n",
       "      <td>4.14200</td>\n",
       "      <td>913.23</td>\n",
       "      <td>1.2464</td>\n",
       "      <td>7.575100e+15</td>\n",
       "      <td>1861.0</td>\n",
       "      <td>0.28359</td>\n",
       "      <td>0</td>\n",
       "    </tr>\n",
       "    <tr>\n",
       "      <th>2</th>\n",
       "      <td>2</td>\n",
       "      <td>0.17803</td>\n",
       "      <td>-0.006980</td>\n",
       "      <td>907.270</td>\n",
       "      <td>0.272140</td>\n",
       "      <td>0.45948</td>\n",
       "      <td>0.17327</td>\n",
       "      <td>2298.00</td>\n",
       "      <td>360650.0</td>\n",
       "      <td>1.224500e+13</td>\n",
       "      <td>...</td>\n",
       "      <td>-5.7688</td>\n",
       "      <td>1.2042</td>\n",
       "      <td>0.26290</td>\n",
       "      <td>8.13120</td>\n",
       "      <td>45119.00</td>\n",
       "      <td>1.1764</td>\n",
       "      <td>3.218100e+14</td>\n",
       "      <td>3838.2</td>\n",
       "      <td>0.40690</td>\n",
       "      <td>1</td>\n",
       "    </tr>\n",
       "    <tr>\n",
       "      <th>3</th>\n",
       "      <td>3</td>\n",
       "      <td>0.15236</td>\n",
       "      <td>0.007259</td>\n",
       "      <td>780.100</td>\n",
       "      <td>0.025179</td>\n",
       "      <td>0.51947</td>\n",
       "      <td>7.49140</td>\n",
       "      <td>112.51</td>\n",
       "      <td>259490.0</td>\n",
       "      <td>7.781400e+13</td>\n",
       "      <td>...</td>\n",
       "      <td>-34.8580</td>\n",
       "      <td>2.0694</td>\n",
       "      <td>0.79631</td>\n",
       "      <td>-16.33600</td>\n",
       "      <td>4952.40</td>\n",
       "      <td>1.1784</td>\n",
       "      <td>4.533000e+12</td>\n",
       "      <td>4889.1</td>\n",
       "      <td>0.51486</td>\n",
       "      <td>1</td>\n",
       "    </tr>\n",
       "    <tr>\n",
       "      <th>4</th>\n",
       "      <td>4</td>\n",
       "      <td>0.11623</td>\n",
       "      <td>0.502900</td>\n",
       "      <td>-109.150</td>\n",
       "      <td>0.297910</td>\n",
       "      <td>0.34490</td>\n",
       "      <td>-0.40932</td>\n",
       "      <td>2538.90</td>\n",
       "      <td>65332.0</td>\n",
       "      <td>1.907200e+15</td>\n",
       "      <td>...</td>\n",
       "      <td>-13.6410</td>\n",
       "      <td>1.5298</td>\n",
       "      <td>1.14640</td>\n",
       "      <td>-0.43124</td>\n",
       "      <td>3856.50</td>\n",
       "      <td>1.4830</td>\n",
       "      <td>-8.991300e+12</td>\n",
       "      <td>NaN</td>\n",
       "      <td>0.23049</td>\n",
       "      <td>1</td>\n",
       "    </tr>\n",
       "  </tbody>\n",
       "</table>\n",
       "<p>5 rows × 120 columns</p>\n",
       "</div>"
      ],
      "text/plain": [
       "   id       f1        f2         f3        f4       f5        f6       f7  \\\n",
       "0   0  0.10859  0.004314    -37.566  0.017364  0.28915 -10.25100   135.12   \n",
       "1   1  0.10090  0.299610  11822.000  0.276500  0.45970  -0.83733  1721.90   \n",
       "2   2  0.17803 -0.006980    907.270  0.272140  0.45948   0.17327  2298.00   \n",
       "3   3  0.15236  0.007259    780.100  0.025179  0.51947   7.49140   112.51   \n",
       "4   4  0.11623  0.502900   -109.150  0.297910  0.34490  -0.40932  2538.90   \n",
       "\n",
       "         f8            f9  ...     f110    f111     f112      f113      f114  \\\n",
       "0  168900.0  3.992400e+14  ... -12.2280  1.7482  1.90960  -7.11570   4378.80   \n",
       "1  119810.0  3.874100e+15  ... -56.7580  4.1684  0.34808   4.14200    913.23   \n",
       "2  360650.0  1.224500e+13  ...  -5.7688  1.2042  0.26290   8.13120  45119.00   \n",
       "3  259490.0  7.781400e+13  ... -34.8580  2.0694  0.79631 -16.33600   4952.40   \n",
       "4   65332.0  1.907200e+15  ... -13.6410  1.5298  1.14640  -0.43124   3856.50   \n",
       "\n",
       "     f115          f116    f117     f118  claim  \n",
       "0  1.2096  8.613400e+14   140.1  1.01770      1  \n",
       "1  1.2464  7.575100e+15  1861.0  0.28359      0  \n",
       "2  1.1764  3.218100e+14  3838.2  0.40690      1  \n",
       "3  1.1784  4.533000e+12  4889.1  0.51486      1  \n",
       "4  1.4830 -8.991300e+12     NaN  0.23049      1  \n",
       "\n",
       "[5 rows x 120 columns]"
      ]
     },
     "execution_count": 2,
     "metadata": {},
     "output_type": "execute_result"
    }
   ],
   "source": [
    "df_train=pd.read_csv('../input/tabular-playground-series-sep-2021/train.csv')\n",
    "df_train.head()"
   ]
  },
  {
   "cell_type": "code",
   "execution_count": 3,
   "id": "adb4935e",
   "metadata": {
    "execution": {
     "iopub.execute_input": "2022-08-23T08:15:54.875550Z",
     "iopub.status.busy": "2022-08-23T08:15:54.874710Z",
     "iopub.status.idle": "2022-08-23T08:15:55.376122Z",
     "shell.execute_reply": "2022-08-23T08:15:55.375102Z"
    },
    "papermill": {
     "duration": 0.514745,
     "end_time": "2022-08-23T08:15:55.378407",
     "exception": false,
     "start_time": "2022-08-23T08:15:54.863662",
     "status": "completed"
    },
    "tags": []
   },
   "outputs": [
    {
     "data": {
      "text/html": [
       "<div>\n",
       "<style scoped>\n",
       "    .dataframe tbody tr th:only-of-type {\n",
       "        vertical-align: middle;\n",
       "    }\n",
       "\n",
       "    .dataframe tbody tr th {\n",
       "        vertical-align: top;\n",
       "    }\n",
       "\n",
       "    .dataframe thead th {\n",
       "        text-align: right;\n",
       "    }\n",
       "</style>\n",
       "<table border=\"1\" class=\"dataframe\">\n",
       "  <thead>\n",
       "    <tr style=\"text-align: right;\">\n",
       "      <th></th>\n",
       "      <th>f1</th>\n",
       "      <th>f2</th>\n",
       "      <th>f3</th>\n",
       "      <th>f4</th>\n",
       "      <th>f5</th>\n",
       "      <th>f6</th>\n",
       "      <th>f7</th>\n",
       "      <th>f8</th>\n",
       "      <th>f9</th>\n",
       "      <th>f10</th>\n",
       "      <th>...</th>\n",
       "      <th>f110</th>\n",
       "      <th>f111</th>\n",
       "      <th>f112</th>\n",
       "      <th>f113</th>\n",
       "      <th>f114</th>\n",
       "      <th>f115</th>\n",
       "      <th>f116</th>\n",
       "      <th>f117</th>\n",
       "      <th>f118</th>\n",
       "      <th>claim</th>\n",
       "    </tr>\n",
       "    <tr>\n",
       "      <th>id</th>\n",
       "      <th></th>\n",
       "      <th></th>\n",
       "      <th></th>\n",
       "      <th></th>\n",
       "      <th></th>\n",
       "      <th></th>\n",
       "      <th></th>\n",
       "      <th></th>\n",
       "      <th></th>\n",
       "      <th></th>\n",
       "      <th></th>\n",
       "      <th></th>\n",
       "      <th></th>\n",
       "      <th></th>\n",
       "      <th></th>\n",
       "      <th></th>\n",
       "      <th></th>\n",
       "      <th></th>\n",
       "      <th></th>\n",
       "      <th></th>\n",
       "      <th></th>\n",
       "    </tr>\n",
       "  </thead>\n",
       "  <tbody>\n",
       "    <tr>\n",
       "      <th>0</th>\n",
       "      <td>0.108590</td>\n",
       "      <td>0.004314</td>\n",
       "      <td>-37.566</td>\n",
       "      <td>0.017364</td>\n",
       "      <td>0.289150</td>\n",
       "      <td>-10.25100</td>\n",
       "      <td>135.12</td>\n",
       "      <td>168900.0</td>\n",
       "      <td>3.992400e+14</td>\n",
       "      <td>86.489</td>\n",
       "      <td>...</td>\n",
       "      <td>-12.2280</td>\n",
       "      <td>1.7482</td>\n",
       "      <td>1.90960</td>\n",
       "      <td>-7.11570</td>\n",
       "      <td>4378.80</td>\n",
       "      <td>1.2096</td>\n",
       "      <td>8.613400e+14</td>\n",
       "      <td>140.10</td>\n",
       "      <td>1.01770</td>\n",
       "      <td>1</td>\n",
       "    </tr>\n",
       "    <tr>\n",
       "      <th>1</th>\n",
       "      <td>0.100900</td>\n",
       "      <td>0.299610</td>\n",
       "      <td>11822.000</td>\n",
       "      <td>0.276500</td>\n",
       "      <td>0.459700</td>\n",
       "      <td>-0.83733</td>\n",
       "      <td>1721.90</td>\n",
       "      <td>119810.0</td>\n",
       "      <td>3.874100e+15</td>\n",
       "      <td>9953.600</td>\n",
       "      <td>...</td>\n",
       "      <td>-56.7580</td>\n",
       "      <td>4.1684</td>\n",
       "      <td>0.34808</td>\n",
       "      <td>4.14200</td>\n",
       "      <td>913.23</td>\n",
       "      <td>1.2464</td>\n",
       "      <td>7.575100e+15</td>\n",
       "      <td>1861.00</td>\n",
       "      <td>0.28359</td>\n",
       "      <td>0</td>\n",
       "    </tr>\n",
       "    <tr>\n",
       "      <th>2</th>\n",
       "      <td>0.178030</td>\n",
       "      <td>-0.006980</td>\n",
       "      <td>907.270</td>\n",
       "      <td>0.272140</td>\n",
       "      <td>0.459480</td>\n",
       "      <td>0.17327</td>\n",
       "      <td>2298.00</td>\n",
       "      <td>360650.0</td>\n",
       "      <td>1.224500e+13</td>\n",
       "      <td>15827.000</td>\n",
       "      <td>...</td>\n",
       "      <td>-5.7688</td>\n",
       "      <td>1.2042</td>\n",
       "      <td>0.26290</td>\n",
       "      <td>8.13120</td>\n",
       "      <td>45119.00</td>\n",
       "      <td>1.1764</td>\n",
       "      <td>3.218100e+14</td>\n",
       "      <td>3838.20</td>\n",
       "      <td>0.40690</td>\n",
       "      <td>1</td>\n",
       "    </tr>\n",
       "    <tr>\n",
       "      <th>3</th>\n",
       "      <td>0.152360</td>\n",
       "      <td>0.007259</td>\n",
       "      <td>780.100</td>\n",
       "      <td>0.025179</td>\n",
       "      <td>0.519470</td>\n",
       "      <td>7.49140</td>\n",
       "      <td>112.51</td>\n",
       "      <td>259490.0</td>\n",
       "      <td>7.781400e+13</td>\n",
       "      <td>-36.837</td>\n",
       "      <td>...</td>\n",
       "      <td>-34.8580</td>\n",
       "      <td>2.0694</td>\n",
       "      <td>0.79631</td>\n",
       "      <td>-16.33600</td>\n",
       "      <td>4952.40</td>\n",
       "      <td>1.1784</td>\n",
       "      <td>4.533000e+12</td>\n",
       "      <td>4889.10</td>\n",
       "      <td>0.51486</td>\n",
       "      <td>1</td>\n",
       "    </tr>\n",
       "    <tr>\n",
       "      <th>4</th>\n",
       "      <td>0.116230</td>\n",
       "      <td>0.502900</td>\n",
       "      <td>-109.150</td>\n",
       "      <td>0.297910</td>\n",
       "      <td>0.344900</td>\n",
       "      <td>-0.40932</td>\n",
       "      <td>2538.90</td>\n",
       "      <td>65332.0</td>\n",
       "      <td>1.907200e+15</td>\n",
       "      <td>144.120</td>\n",
       "      <td>...</td>\n",
       "      <td>-13.6410</td>\n",
       "      <td>1.5298</td>\n",
       "      <td>1.14640</td>\n",
       "      <td>-0.43124</td>\n",
       "      <td>3856.50</td>\n",
       "      <td>1.4830</td>\n",
       "      <td>-8.991300e+12</td>\n",
       "      <td>NaN</td>\n",
       "      <td>0.23049</td>\n",
       "      <td>1</td>\n",
       "    </tr>\n",
       "    <tr>\n",
       "      <th>...</th>\n",
       "      <td>...</td>\n",
       "      <td>...</td>\n",
       "      <td>...</td>\n",
       "      <td>...</td>\n",
       "      <td>...</td>\n",
       "      <td>...</td>\n",
       "      <td>...</td>\n",
       "      <td>...</td>\n",
       "      <td>...</td>\n",
       "      <td>...</td>\n",
       "      <td>...</td>\n",
       "      <td>...</td>\n",
       "      <td>...</td>\n",
       "      <td>...</td>\n",
       "      <td>...</td>\n",
       "      <td>...</td>\n",
       "      <td>...</td>\n",
       "      <td>...</td>\n",
       "      <td>...</td>\n",
       "      <td>...</td>\n",
       "      <td>...</td>\n",
       "    </tr>\n",
       "    <tr>\n",
       "      <th>957914</th>\n",
       "      <td>0.098979</td>\n",
       "      <td>0.202530</td>\n",
       "      <td>2192.100</td>\n",
       "      <td>0.348010</td>\n",
       "      <td>0.276430</td>\n",
       "      <td>-0.84065</td>\n",
       "      <td>2214.20</td>\n",
       "      <td>26246.0</td>\n",
       "      <td>1.061600e+15</td>\n",
       "      <td>10882.000</td>\n",
       "      <td>...</td>\n",
       "      <td>-51.2970</td>\n",
       "      <td>1.7323</td>\n",
       "      <td>20.76300</td>\n",
       "      <td>14.74400</td>\n",
       "      <td>27415.00</td>\n",
       "      <td>1.2160</td>\n",
       "      <td>2.139400e+13</td>\n",
       "      <td>2612.00</td>\n",
       "      <td>0.42597</td>\n",
       "      <td>0</td>\n",
       "    </tr>\n",
       "    <tr>\n",
       "      <th>957915</th>\n",
       "      <td>0.134930</td>\n",
       "      <td>0.413600</td>\n",
       "      <td>1050.100</td>\n",
       "      <td>0.000521</td>\n",
       "      <td>-0.001246</td>\n",
       "      <td>1.76990</td>\n",
       "      <td>3519.90</td>\n",
       "      <td>862290.0</td>\n",
       "      <td>7.321400e+13</td>\n",
       "      <td>2869.000</td>\n",
       "      <td>...</td>\n",
       "      <td>-41.4180</td>\n",
       "      <td>2.6986</td>\n",
       "      <td>-1.09760</td>\n",
       "      <td>-1.09980</td>\n",
       "      <td>13826.00</td>\n",
       "      <td>1.3320</td>\n",
       "      <td>1.829400e+17</td>\n",
       "      <td>3300.50</td>\n",
       "      <td>0.92974</td>\n",
       "      <td>1</td>\n",
       "    </tr>\n",
       "    <tr>\n",
       "      <th>957916</th>\n",
       "      <td>0.104660</td>\n",
       "      <td>0.473510</td>\n",
       "      <td>2415.400</td>\n",
       "      <td>0.252230</td>\n",
       "      <td>0.196970</td>\n",
       "      <td>-0.82323</td>\n",
       "      <td>3044.90</td>\n",
       "      <td>13832.0</td>\n",
       "      <td>2.693300e+12</td>\n",
       "      <td>2294.700</td>\n",
       "      <td>...</td>\n",
       "      <td>-15.9670</td>\n",
       "      <td>1.6843</td>\n",
       "      <td>1.07590</td>\n",
       "      <td>16.64600</td>\n",
       "      <td>8655.10</td>\n",
       "      <td>1.1113</td>\n",
       "      <td>1.925800e+16</td>\n",
       "      <td>297.61</td>\n",
       "      <td>0.91446</td>\n",
       "      <td>0</td>\n",
       "    </tr>\n",
       "    <tr>\n",
       "      <th>957917</th>\n",
       "      <td>0.118190</td>\n",
       "      <td>0.320870</td>\n",
       "      <td>657.860</td>\n",
       "      <td>0.237290</td>\n",
       "      <td>0.260250</td>\n",
       "      <td>-0.71237</td>\n",
       "      <td>173.20</td>\n",
       "      <td>20811.0</td>\n",
       "      <td>9.711000e+14</td>\n",
       "      <td>14315.000</td>\n",
       "      <td>...</td>\n",
       "      <td>-2.8375</td>\n",
       "      <td>1.3006</td>\n",
       "      <td>132.50000</td>\n",
       "      <td>8.53050</td>\n",
       "      <td>3842.10</td>\n",
       "      <td>1.1941</td>\n",
       "      <td>1.248300e+16</td>\n",
       "      <td>5212.10</td>\n",
       "      <td>0.20942</td>\n",
       "      <td>1</td>\n",
       "    </tr>\n",
       "    <tr>\n",
       "      <th>957918</th>\n",
       "      <td>0.088832</td>\n",
       "      <td>0.472230</td>\n",
       "      <td>4309.400</td>\n",
       "      <td>0.017016</td>\n",
       "      <td>0.376880</td>\n",
       "      <td>4.81520</td>\n",
       "      <td>458.20</td>\n",
       "      <td>42183.0</td>\n",
       "      <td>1.805500e+13</td>\n",
       "      <td>3155.700</td>\n",
       "      <td>...</td>\n",
       "      <td>-24.2290</td>\n",
       "      <td>2.4189</td>\n",
       "      <td>0.67939</td>\n",
       "      <td>NaN</td>\n",
       "      <td>5901.40</td>\n",
       "      <td>1.0907</td>\n",
       "      <td>1.213800e+16</td>\n",
       "      <td>2132.30</td>\n",
       "      <td>0.38069</td>\n",
       "      <td>0</td>\n",
       "    </tr>\n",
       "  </tbody>\n",
       "</table>\n",
       "<p>957919 rows × 119 columns</p>\n",
       "</div>"
      ],
      "text/plain": [
       "              f1        f2         f3        f4        f5        f6       f7  \\\n",
       "id                                                                             \n",
       "0       0.108590  0.004314    -37.566  0.017364  0.289150 -10.25100   135.12   \n",
       "1       0.100900  0.299610  11822.000  0.276500  0.459700  -0.83733  1721.90   \n",
       "2       0.178030 -0.006980    907.270  0.272140  0.459480   0.17327  2298.00   \n",
       "3       0.152360  0.007259    780.100  0.025179  0.519470   7.49140   112.51   \n",
       "4       0.116230  0.502900   -109.150  0.297910  0.344900  -0.40932  2538.90   \n",
       "...          ...       ...        ...       ...       ...       ...      ...   \n",
       "957914  0.098979  0.202530   2192.100  0.348010  0.276430  -0.84065  2214.20   \n",
       "957915  0.134930  0.413600   1050.100  0.000521 -0.001246   1.76990  3519.90   \n",
       "957916  0.104660  0.473510   2415.400  0.252230  0.196970  -0.82323  3044.90   \n",
       "957917  0.118190  0.320870    657.860  0.237290  0.260250  -0.71237   173.20   \n",
       "957918  0.088832  0.472230   4309.400  0.017016  0.376880   4.81520   458.20   \n",
       "\n",
       "              f8            f9        f10  ...     f110    f111       f112  \\\n",
       "id                                         ...                               \n",
       "0       168900.0  3.992400e+14     86.489  ... -12.2280  1.7482    1.90960   \n",
       "1       119810.0  3.874100e+15   9953.600  ... -56.7580  4.1684    0.34808   \n",
       "2       360650.0  1.224500e+13  15827.000  ...  -5.7688  1.2042    0.26290   \n",
       "3       259490.0  7.781400e+13    -36.837  ... -34.8580  2.0694    0.79631   \n",
       "4        65332.0  1.907200e+15    144.120  ... -13.6410  1.5298    1.14640   \n",
       "...          ...           ...        ...  ...      ...     ...        ...   \n",
       "957914   26246.0  1.061600e+15  10882.000  ... -51.2970  1.7323   20.76300   \n",
       "957915  862290.0  7.321400e+13   2869.000  ... -41.4180  2.6986   -1.09760   \n",
       "957916   13832.0  2.693300e+12   2294.700  ... -15.9670  1.6843    1.07590   \n",
       "957917   20811.0  9.711000e+14  14315.000  ...  -2.8375  1.3006  132.50000   \n",
       "957918   42183.0  1.805500e+13   3155.700  ... -24.2290  2.4189    0.67939   \n",
       "\n",
       "            f113      f114    f115          f116     f117     f118  claim  \n",
       "id                                                                         \n",
       "0       -7.11570   4378.80  1.2096  8.613400e+14   140.10  1.01770      1  \n",
       "1        4.14200    913.23  1.2464  7.575100e+15  1861.00  0.28359      0  \n",
       "2        8.13120  45119.00  1.1764  3.218100e+14  3838.20  0.40690      1  \n",
       "3      -16.33600   4952.40  1.1784  4.533000e+12  4889.10  0.51486      1  \n",
       "4       -0.43124   3856.50  1.4830 -8.991300e+12      NaN  0.23049      1  \n",
       "...          ...       ...     ...           ...      ...      ...    ...  \n",
       "957914  14.74400  27415.00  1.2160  2.139400e+13  2612.00  0.42597      0  \n",
       "957915  -1.09980  13826.00  1.3320  1.829400e+17  3300.50  0.92974      1  \n",
       "957916  16.64600   8655.10  1.1113  1.925800e+16   297.61  0.91446      0  \n",
       "957917   8.53050   3842.10  1.1941  1.248300e+16  5212.10  0.20942      1  \n",
       "957918       NaN   5901.40  1.0907  1.213800e+16  2132.30  0.38069      0  \n",
       "\n",
       "[957919 rows x 119 columns]"
      ]
     },
     "execution_count": 3,
     "metadata": {},
     "output_type": "execute_result"
    }
   ],
   "source": [
    "df_train.set_index('id')"
   ]
  },
  {
   "cell_type": "markdown",
   "id": "949d5295",
   "metadata": {
    "papermill": {
     "duration": 0.010114,
     "end_time": "2022-08-23T08:15:55.398860",
     "exception": false,
     "start_time": "2022-08-23T08:15:55.388746",
     "status": "completed"
    },
    "tags": []
   },
   "source": [
    "# handle missing value"
   ]
  },
  {
   "cell_type": "code",
   "execution_count": 4,
   "id": "896c9e68",
   "metadata": {
    "execution": {
     "iopub.execute_input": "2022-08-23T08:15:55.420821Z",
     "iopub.status.busy": "2022-08-23T08:15:55.419835Z",
     "iopub.status.idle": "2022-08-23T08:15:56.993933Z",
     "shell.execute_reply": "2022-08-23T08:15:56.992839Z"
    },
    "papermill": {
     "duration": 1.587445,
     "end_time": "2022-08-23T08:15:56.996302",
     "exception": false,
     "start_time": "2022-08-23T08:15:55.408857",
     "status": "completed"
    },
    "tags": []
   },
   "outputs": [
    {
     "data": {
      "text/plain": [
       "0"
      ]
     },
     "execution_count": 4,
     "metadata": {},
     "output_type": "execute_result"
    }
   ],
   "source": [
    "df_train.isnull().sum().sum()\n",
    "df_train=df_train.fillna(df_train.mean())\n",
    "df_train.isnull().sum().sum()"
   ]
  },
  {
   "cell_type": "code",
   "execution_count": 5,
   "id": "30e6f283",
   "metadata": {
    "execution": {
     "iopub.execute_input": "2022-08-23T08:15:57.019018Z",
     "iopub.status.busy": "2022-08-23T08:15:57.018710Z",
     "iopub.status.idle": "2022-08-23T08:15:57.023060Z",
     "shell.execute_reply": "2022-08-23T08:15:57.022005Z"
    },
    "papermill": {
     "duration": 0.018401,
     "end_time": "2022-08-23T08:15:57.025365",
     "exception": false,
     "start_time": "2022-08-23T08:15:57.006964",
     "status": "completed"
    },
    "tags": []
   },
   "outputs": [],
   "source": [
    "#def drop_outliers(df,field_name):\n",
    "    #iqr=1.5*(np.percentile(df[field_name],75)-np.percentile(df[field_name],25))\n",
    "    #df.drop(df[df[field_name]>(iqr+np.percentile(df[field_name],75))].index,inplace=True)\n",
    "    #df.drop(df[df[field_name]<(np.percentile(df[field_name],25)-iqr)].index,inplace=True)"
   ]
  },
  {
   "cell_type": "code",
   "execution_count": 6,
   "id": "de90a7f9",
   "metadata": {
    "execution": {
     "iopub.execute_input": "2022-08-23T08:15:57.047210Z",
     "iopub.status.busy": "2022-08-23T08:15:57.046874Z",
     "iopub.status.idle": "2022-08-23T08:15:57.051771Z",
     "shell.execute_reply": "2022-08-23T08:15:57.050971Z"
    },
    "papermill": {
     "duration": 0.018222,
     "end_time": "2022-08-23T08:15:57.053802",
     "exception": false,
     "start_time": "2022-08-23T08:15:57.035580",
     "status": "completed"
    },
    "tags": []
   },
   "outputs": [],
   "source": [
    "#drop_outliers(df_train,'f118')"
   ]
  },
  {
   "cell_type": "code",
   "execution_count": 7,
   "id": "c35e873c",
   "metadata": {
    "execution": {
     "iopub.execute_input": "2022-08-23T08:15:57.075266Z",
     "iopub.status.busy": "2022-08-23T08:15:57.074977Z",
     "iopub.status.idle": "2022-08-23T08:15:57.663562Z",
     "shell.execute_reply": "2022-08-23T08:15:57.662562Z"
    },
    "papermill": {
     "duration": 0.602047,
     "end_time": "2022-08-23T08:15:57.665952",
     "exception": false,
     "start_time": "2022-08-23T08:15:57.063905",
     "status": "completed"
    },
    "tags": []
   },
   "outputs": [],
   "source": [
    "X=df_train.iloc[:, 0:119].values"
   ]
  },
  {
   "cell_type": "code",
   "execution_count": 8,
   "id": "7ddb4a96",
   "metadata": {
    "execution": {
     "iopub.execute_input": "2022-08-23T08:15:57.688143Z",
     "iopub.status.busy": "2022-08-23T08:15:57.687812Z",
     "iopub.status.idle": "2022-08-23T08:15:57.692261Z",
     "shell.execute_reply": "2022-08-23T08:15:57.691225Z"
    },
    "papermill": {
     "duration": 0.018094,
     "end_time": "2022-08-23T08:15:57.694534",
     "exception": false,
     "start_time": "2022-08-23T08:15:57.676440",
     "status": "completed"
    },
    "tags": []
   },
   "outputs": [],
   "source": [
    "y=df_train['claim']"
   ]
  },
  {
   "cell_type": "code",
   "execution_count": 9,
   "id": "c69c6775",
   "metadata": {
    "execution": {
     "iopub.execute_input": "2022-08-23T08:15:57.715969Z",
     "iopub.status.busy": "2022-08-23T08:15:57.715695Z",
     "iopub.status.idle": "2022-08-23T08:15:57.720994Z",
     "shell.execute_reply": "2022-08-23T08:15:57.720131Z"
    },
    "papermill": {
     "duration": 0.018406,
     "end_time": "2022-08-23T08:15:57.723214",
     "exception": false,
     "start_time": "2022-08-23T08:15:57.704808",
     "status": "completed"
    },
    "tags": []
   },
   "outputs": [],
   "source": [
    "y=y.astype('int')"
   ]
  },
  {
   "cell_type": "code",
   "execution_count": 10,
   "id": "981ddbca",
   "metadata": {
    "execution": {
     "iopub.execute_input": "2022-08-23T08:15:57.744882Z",
     "iopub.status.busy": "2022-08-23T08:15:57.744155Z",
     "iopub.status.idle": "2022-08-23T08:15:57.748623Z",
     "shell.execute_reply": "2022-08-23T08:15:57.747809Z"
    },
    "papermill": {
     "duration": 0.017094,
     "end_time": "2022-08-23T08:15:57.750498",
     "exception": false,
     "start_time": "2022-08-23T08:15:57.733404",
     "status": "completed"
    },
    "tags": []
   },
   "outputs": [],
   "source": [
    "from sklearn import preprocessing"
   ]
  },
  {
   "cell_type": "code",
   "execution_count": 11,
   "id": "9941059d",
   "metadata": {
    "execution": {
     "iopub.execute_input": "2022-08-23T08:15:57.772162Z",
     "iopub.status.busy": "2022-08-23T08:15:57.771300Z",
     "iopub.status.idle": "2022-08-23T08:15:57.775645Z",
     "shell.execute_reply": "2022-08-23T08:15:57.774792Z"
    },
    "papermill": {
     "duration": 0.017138,
     "end_time": "2022-08-23T08:15:57.777588",
     "exception": false,
     "start_time": "2022-08-23T08:15:57.760450",
     "status": "completed"
    },
    "tags": []
   },
   "outputs": [],
   "source": [
    "from sklearn.preprocessing import StandardScaler\n",
    "\n"
   ]
  },
  {
   "cell_type": "code",
   "execution_count": 12,
   "id": "462d505a",
   "metadata": {
    "execution": {
     "iopub.execute_input": "2022-08-23T08:15:57.799366Z",
     "iopub.status.busy": "2022-08-23T08:15:57.798610Z",
     "iopub.status.idle": "2022-08-23T08:15:57.803020Z",
     "shell.execute_reply": "2022-08-23T08:15:57.802218Z"
    },
    "papermill": {
     "duration": 0.017205,
     "end_time": "2022-08-23T08:15:57.804929",
     "exception": false,
     "start_time": "2022-08-23T08:15:57.787724",
     "status": "completed"
    },
    "tags": []
   },
   "outputs": [],
   "source": [
    "scaler=StandardScaler()"
   ]
  },
  {
   "cell_type": "code",
   "execution_count": 13,
   "id": "2ebd25ac",
   "metadata": {
    "execution": {
     "iopub.execute_input": "2022-08-23T08:15:57.826279Z",
     "iopub.status.busy": "2022-08-23T08:15:57.825541Z",
     "iopub.status.idle": "2022-08-23T08:15:59.606532Z",
     "shell.execute_reply": "2022-08-23T08:15:59.605475Z"
    },
    "papermill": {
     "duration": 1.794156,
     "end_time": "2022-08-23T08:15:59.609022",
     "exception": false,
     "start_time": "2022-08-23T08:15:57.814866",
     "status": "completed"
    },
    "tags": []
   },
   "outputs": [],
   "source": [
    "X = scaler.fit_transform(X.astype(float))"
   ]
  },
  {
   "cell_type": "markdown",
   "id": "75908df8",
   "metadata": {
    "papermill": {
     "duration": 0.009939,
     "end_time": "2022-08-23T08:15:59.630186",
     "exception": false,
     "start_time": "2022-08-23T08:15:59.620247",
     "status": "completed"
    },
    "tags": []
   },
   "source": [
    "# train test split"
   ]
  },
  {
   "cell_type": "code",
   "execution_count": 14,
   "id": "774f1c0e",
   "metadata": {
    "execution": {
     "iopub.execute_input": "2022-08-23T08:15:59.652420Z",
     "iopub.status.busy": "2022-08-23T08:15:59.651570Z",
     "iopub.status.idle": "2022-08-23T08:16:01.035794Z",
     "shell.execute_reply": "2022-08-23T08:16:01.034551Z"
    },
    "papermill": {
     "duration": 1.398358,
     "end_time": "2022-08-23T08:16:01.038697",
     "exception": false,
     "start_time": "2022-08-23T08:15:59.640339",
     "status": "completed"
    },
    "tags": []
   },
   "outputs": [],
   "source": [
    "X_train, X_test,y_train,y_test=train_test_split(X,y,test_size=0.2,random_state=4)"
   ]
  },
  {
   "cell_type": "markdown",
   "id": "7b958cf6",
   "metadata": {
    "papermill": {
     "duration": 0.011751,
     "end_time": "2022-08-23T08:16:01.062636",
     "exception": false,
     "start_time": "2022-08-23T08:16:01.050885",
     "status": "completed"
    },
    "tags": []
   },
   "source": [
    "# Are calsses balance"
   ]
  },
  {
   "cell_type": "code",
   "execution_count": 15,
   "id": "4337afaa",
   "metadata": {
    "execution": {
     "iopub.execute_input": "2022-08-23T08:16:01.089102Z",
     "iopub.status.busy": "2022-08-23T08:16:01.088139Z",
     "iopub.status.idle": "2022-08-23T08:16:01.335022Z",
     "shell.execute_reply": "2022-08-23T08:16:01.334001Z"
    },
    "papermill": {
     "duration": 0.262317,
     "end_time": "2022-08-23T08:16:01.337212",
     "exception": false,
     "start_time": "2022-08-23T08:16:01.074895",
     "status": "completed"
    },
    "tags": []
   },
   "outputs": [
    {
     "data": {
      "image/png": "[encoded data removed]",
      "text/plain": [
       "<Figure size 432x288 with 1 Axes>"
      ]
     },
     "metadata": {
      "needs_background": "light"
     },
     "output_type": "display_data"
    }
   ],
   "source": [
    "y_train.value_counts().plot(kind='bar')\n",
    "plt.title('label balance')\n",
    "plt.xlabel('label values')\n",
    "plt.ylabel('amount per label')\n",
    "plt.show()"
   ]
  },
  {
   "cell_type": "markdown",
   "id": "9614fe9e",
   "metadata": {
    "papermill": {
     "duration": 0.010587,
     "end_time": "2022-08-23T08:16:01.358463",
     "exception": false,
     "start_time": "2022-08-23T08:16:01.347876",
     "status": "completed"
    },
    "tags": []
   },
   "source": [
    "# Scale Data"
   ]
  },
  {
   "cell_type": "code",
   "execution_count": 16,
   "id": "2d3668bc",
   "metadata": {
    "execution": {
     "iopub.execute_input": "2022-08-23T08:16:01.381475Z",
     "iopub.status.busy": "2022-08-23T08:16:01.380624Z",
     "iopub.status.idle": "2022-08-23T08:16:01.385386Z",
     "shell.execute_reply": "2022-08-23T08:16:01.384515Z"
    },
    "papermill": {
     "duration": 0.017684,
     "end_time": "2022-08-23T08:16:01.387200",
     "exception": false,
     "start_time": "2022-08-23T08:16:01.369516",
     "status": "completed"
    },
    "tags": []
   },
   "outputs": [],
   "source": [
    "#from sklearn.decomposition import PCA"
   ]
  },
  {
   "cell_type": "code",
   "execution_count": 17,
   "id": "b67d5ab2",
   "metadata": {
    "execution": {
     "iopub.execute_input": "2022-08-23T08:16:01.409639Z",
     "iopub.status.busy": "2022-08-23T08:16:01.409359Z",
     "iopub.status.idle": "2022-08-23T08:16:01.413094Z",
     "shell.execute_reply": "2022-08-23T08:16:01.412106Z"
    },
    "papermill": {
     "duration": 0.017481,
     "end_time": "2022-08-23T08:16:01.415293",
     "exception": false,
     "start_time": "2022-08-23T08:16:01.397812",
     "status": "completed"
    },
    "tags": []
   },
   "outputs": [],
   "source": [
    "#pca = PCA()\n"
   ]
  },
  {
   "cell_type": "code",
   "execution_count": 18,
   "id": "4f26f40a",
   "metadata": {
    "execution": {
     "iopub.execute_input": "2022-08-23T08:16:01.438463Z",
     "iopub.status.busy": "2022-08-23T08:16:01.437667Z",
     "iopub.status.idle": "2022-08-23T08:16:01.442031Z",
     "shell.execute_reply": "2022-08-23T08:16:01.441219Z"
    },
    "papermill": {
     "duration": 0.017819,
     "end_time": "2022-08-23T08:16:01.444171",
     "exception": false,
     "start_time": "2022-08-23T08:16:01.426352",
     "status": "completed"
    },
    "tags": []
   },
   "outputs": [],
   "source": [
    "#comp = pca.fit(X_train)"
   ]
  },
  {
   "cell_type": "code",
   "execution_count": 19,
   "id": "8a59a3c8",
   "metadata": {
    "execution": {
     "iopub.execute_input": "2022-08-23T08:16:01.466876Z",
     "iopub.status.busy": "2022-08-23T08:16:01.466098Z",
     "iopub.status.idle": "2022-08-23T08:16:01.470106Z",
     "shell.execute_reply": "2022-08-23T08:16:01.469127Z"
    },
    "papermill": {
     "duration": 0.017418,
     "end_time": "2022-08-23T08:16:01.472051",
     "exception": false,
     "start_time": "2022-08-23T08:16:01.454633",
     "status": "completed"
    },
    "tags": []
   },
   "outputs": [],
   "source": [
    "#plt.plot(np.cumsum(comp.explained_variance_ratio_))\n",
    "#plt.grid()\n",
    "#plt.xlabel('Number of Principal Components')\n",
    "#plt.ylabel('Explained Variance')\n",
    "#sns.despine()"
   ]
  },
  {
   "cell_type": "code",
   "execution_count": 20,
   "id": "57f0c520",
   "metadata": {
    "execution": {
     "iopub.execute_input": "2022-08-23T08:16:01.493997Z",
     "iopub.status.busy": "2022-08-23T08:16:01.493253Z",
     "iopub.status.idle": "2022-08-23T08:16:01.497471Z",
     "shell.execute_reply": "2022-08-23T08:16:01.496615Z"
    },
    "papermill": {
     "duration": 0.017176,
     "end_time": "2022-08-23T08:16:01.499423",
     "exception": false,
     "start_time": "2022-08-23T08:16:01.482247",
     "status": "completed"
    },
    "tags": []
   },
   "outputs": [],
   "source": [
    "#pca = PCA(n_components=50).fit(X_train)\n",
    "#train_x_transform = pca.transform(X_train)"
   ]
  },
  {
   "cell_type": "code",
   "execution_count": 21,
   "id": "f5b5856d",
   "metadata": {
    "execution": {
     "iopub.execute_input": "2022-08-23T08:16:01.521645Z",
     "iopub.status.busy": "2022-08-23T08:16:01.520789Z",
     "iopub.status.idle": "2022-08-23T08:16:01.525006Z",
     "shell.execute_reply": "2022-08-23T08:16:01.524191Z"
    },
    "papermill": {
     "duration": 0.017031,
     "end_time": "2022-08-23T08:16:01.526802",
     "exception": false,
     "start_time": "2022-08-23T08:16:01.509771",
     "status": "completed"
    },
    "tags": []
   },
   "outputs": [],
   "source": [
    "#from sklearn.model_selection import GridSearchCV"
   ]
  },
  {
   "cell_type": "markdown",
   "id": "35cd6526",
   "metadata": {
    "execution": {
     "iopub.execute_input": "2022-08-23T07:31:51.559531Z",
     "iopub.status.busy": "2022-08-23T07:31:51.558058Z",
     "iopub.status.idle": "2022-08-23T07:31:51.567789Z",
     "shell.execute_reply": "2022-08-23T07:31:51.566282Z",
     "shell.execute_reply.started": "2022-08-23T07:31:51.559490Z"
    },
    "papermill": {
     "duration": 0.009988,
     "end_time": "2022-08-23T08:16:01.547391",
     "exception": false,
     "start_time": "2022-08-23T08:16:01.537403",
     "status": "completed"
    },
    "tags": []
   },
   "source": [
    "# estimator = XGBClassifier(\n",
    "   # objective= 'binary:logistic',\n",
    "   # nthread=4,\n",
    "   # seed=42\n",
    ")"
   ]
  },
  {
   "cell_type": "code",
   "execution_count": null,
   "id": "f9848003",
   "metadata": {
    "papermill": {
     "duration": 0.01014,
     "end_time": "2022-08-23T08:16:01.567854",
     "exception": false,
     "start_time": "2022-08-23T08:16:01.557714",
     "status": "completed"
    },
    "tags": []
   },
   "outputs": [],
   "source": []
  },
  {
   "cell_type": "code",
   "execution_count": 22,
   "id": "7492aeeb",
   "metadata": {
    "execution": {
     "iopub.execute_input": "2022-08-23T08:16:01.589912Z",
     "iopub.status.busy": "2022-08-23T08:16:01.589153Z",
     "iopub.status.idle": "2022-08-23T08:16:01.594026Z",
     "shell.execute_reply": "2022-08-23T08:16:01.593212Z"
    },
    "papermill": {
     "duration": 0.017856,
     "end_time": "2022-08-23T08:16:01.596057",
     "exception": false,
     "start_time": "2022-08-23T08:16:01.578201",
     "status": "completed"
    },
    "tags": []
   },
   "outputs": [],
   "source": [
    "#parameters = {\n",
    "    #'max_depth': range (2, 10, 1),\n",
    "    #'n_estimators': range(60, 220, 40),\n",
    "    #'learning_rate': [0.1, 0.01, 0.05]\n",
    "#}"
   ]
  },
  {
   "cell_type": "code",
   "execution_count": 23,
   "id": "c63ba448",
   "metadata": {
    "execution": {
     "iopub.execute_input": "2022-08-23T08:16:01.618224Z",
     "iopub.status.busy": "2022-08-23T08:16:01.617947Z",
     "iopub.status.idle": "2022-08-23T08:16:01.621896Z",
     "shell.execute_reply": "2022-08-23T08:16:01.620961Z"
    },
    "papermill": {
     "duration": 0.017551,
     "end_time": "2022-08-23T08:16:01.624043",
     "exception": false,
     "start_time": "2022-08-23T08:16:01.606492",
     "status": "completed"
    },
    "tags": []
   },
   "outputs": [],
   "source": [
    "#grid_search = GridSearchCV(\n",
    "    #estimator=estimator,\n",
    "    #param_grid=parameters,\n",
    "    #scoring = 'roc_auc',\n",
    "    #n_jobs = 10,\n",
    "    #cv = 10,\n",
    "    #verbose=True\n",
    "#)"
   ]
  },
  {
   "cell_type": "code",
   "execution_count": 24,
   "id": "eb5a0990",
   "metadata": {
    "execution": {
     "iopub.execute_input": "2022-08-23T08:16:01.645459Z",
     "iopub.status.busy": "2022-08-23T08:16:01.645193Z",
     "iopub.status.idle": "2022-08-23T08:16:01.649012Z",
     "shell.execute_reply": "2022-08-23T08:16:01.648058Z"
    },
    "papermill": {
     "duration": 0.016694,
     "end_time": "2022-08-23T08:16:01.650973",
     "exception": false,
     "start_time": "2022-08-23T08:16:01.634279",
     "status": "completed"
    },
    "tags": []
   },
   "outputs": [],
   "source": [
    "#grid_search.fit(X_train, y_train)\n"
   ]
  },
  {
   "cell_type": "code",
   "execution_count": 25,
   "id": "fb0bba7d",
   "metadata": {
    "execution": {
     "iopub.execute_input": "2022-08-23T08:16:01.672593Z",
     "iopub.status.busy": "2022-08-23T08:16:01.672335Z",
     "iopub.status.idle": "2022-08-23T08:16:01.675995Z",
     "shell.execute_reply": "2022-08-23T08:16:01.675126Z"
    },
    "papermill": {
     "duration": 0.016561,
     "end_time": "2022-08-23T08:16:01.677895",
     "exception": false,
     "start_time": "2022-08-23T08:16:01.661334",
     "status": "completed"
    },
    "tags": []
   },
   "outputs": [],
   "source": [
    "#grid_search.best_estimator_\n"
   ]
  },
  {
   "cell_type": "markdown",
   "id": "2cc8efae",
   "metadata": {
    "papermill": {
     "duration": 0.010545,
     "end_time": "2022-08-23T08:16:01.698758",
     "exception": false,
     "start_time": "2022-08-23T08:16:01.688213",
     "status": "completed"
    },
    "tags": []
   },
   "source": [
    "# Define model"
   ]
  },
  {
   "cell_type": "code",
   "execution_count": 26,
   "id": "f844e269",
   "metadata": {
    "execution": {
     "iopub.execute_input": "2022-08-23T08:16:01.720302Z",
     "iopub.status.busy": "2022-08-23T08:16:01.720013Z",
     "iopub.status.idle": "2022-08-23T08:16:01.723863Z",
     "shell.execute_reply": "2022-08-23T08:16:01.722947Z"
    },
    "papermill": {
     "duration": 0.01687,
     "end_time": "2022-08-23T08:16:01.725795",
     "exception": false,
     "start_time": "2022-08-23T08:16:01.708925",
     "status": "completed"
    },
    "tags": []
   },
   "outputs": [],
   "source": [
    "model = XGBClassifier(use_label_encoder=False, eval_metric='mlogloss')\n"
   ]
  },
  {
   "cell_type": "code",
   "execution_count": 27,
   "id": "9b01aa44",
   "metadata": {
    "execution": {
     "iopub.execute_input": "2022-08-23T08:16:01.747439Z",
     "iopub.status.busy": "2022-08-23T08:16:01.746808Z",
     "iopub.status.idle": "2022-08-23T08:37:06.324507Z",
     "shell.execute_reply": "2022-08-23T08:37:06.323441Z"
    },
    "papermill": {
     "duration": 1264.597132,
     "end_time": "2022-08-23T08:37:06.333090",
     "exception": false,
     "start_time": "2022-08-23T08:16:01.735958",
     "status": "completed"
    },
    "tags": []
   },
   "outputs": [
    {
     "data": {
      "text/plain": [
       "XGBClassifier(base_score=0.5, booster='gbtree', callbacks=None,\n",
       "              colsample_bylevel=1, colsample_bynode=1, colsample_bytree=1,\n",
       "              early_stopping_rounds=None, enable_categorical=False,\n",
       "              eval_metric='mlogloss', gamma=0, gpu_id=-1,\n",
       "              grow_policy='depthwise', importance_type=None,\n",
       "              interaction_constraints='', learning_rate=0.300000012,\n",
       "              max_bin=256, max_cat_to_onehot=4, max_delta_step=0, max_depth=6,\n",
       "              max_leaves=0, min_child_weight=1, missing=nan,\n",
       "              monotone_constraints='()', n_estimators=100, n_jobs=0,\n",
       "              num_parallel_tree=1, predictor='auto', random_state=0,\n",
       "              reg_alpha=0, reg_lambda=1, ...)"
      ]
     },
     "execution_count": 27,
     "metadata": {},
     "output_type": "execute_result"
    }
   ],
   "source": [
    "model.fit(X_train, y_train)"
   ]
  },
  {
   "cell_type": "code",
   "execution_count": 28,
   "id": "47e42a2f",
   "metadata": {
    "execution": {
     "iopub.execute_input": "2022-08-23T08:37:06.358036Z",
     "iopub.status.busy": "2022-08-23T08:37:06.357050Z",
     "iopub.status.idle": "2022-08-23T08:37:06.879824Z",
     "shell.execute_reply": "2022-08-23T08:37:06.878956Z"
    },
    "papermill": {
     "duration": 0.538667,
     "end_time": "2022-08-23T08:37:06.882911",
     "exception": false,
     "start_time": "2022-08-23T08:37:06.344244",
     "status": "completed"
    },
    "tags": []
   },
   "outputs": [],
   "source": [
    "y_pred = model.predict(X_test)\n"
   ]
  },
  {
   "cell_type": "code",
   "execution_count": 29,
   "id": "7dcbdeed",
   "metadata": {
    "execution": {
     "iopub.execute_input": "2022-08-23T08:37:06.910183Z",
     "iopub.status.busy": "2022-08-23T08:37:06.909809Z",
     "iopub.status.idle": "2022-08-23T08:37:06.937684Z",
     "shell.execute_reply": "2022-08-23T08:37:06.936481Z"
    },
    "papermill": {
     "duration": 0.043615,
     "end_time": "2022-08-23T08:37:06.940616",
     "exception": false,
     "start_time": "2022-08-23T08:37:06.897001",
     "status": "completed"
    },
    "tags": []
   },
   "outputs": [
    {
     "data": {
      "text/plain": [
       "0.7180140303991983"
      ]
     },
     "execution_count": 29,
     "metadata": {},
     "output_type": "execute_result"
    }
   ],
   "source": [
    "accuracy = accuracy_score(y_test, y_pred)\n",
    "accuracy"
   ]
  },
  {
   "cell_type": "markdown",
   "id": "770a5cc7",
   "metadata": {
    "papermill": {
     "duration": 0.011917,
     "end_time": "2022-08-23T08:37:06.964597",
     "exception": false,
     "start_time": "2022-08-23T08:37:06.952680",
     "status": "completed"
    },
    "tags": []
   },
   "source": [
    "# Use samole data to get competition result"
   ]
  },
  {
   "cell_type": "code",
   "execution_count": 30,
   "id": "81852cff",
   "metadata": {
    "execution": {
     "iopub.execute_input": "2022-08-23T08:37:06.990234Z",
     "iopub.status.busy": "2022-08-23T08:37:06.989819Z",
     "iopub.status.idle": "2022-08-23T08:37:20.637527Z",
     "shell.execute_reply": "2022-08-23T08:37:20.635247Z"
    },
    "papermill": {
     "duration": 13.665446,
     "end_time": "2022-08-23T08:37:20.642580",
     "exception": false,
     "start_time": "2022-08-23T08:37:06.977134",
     "status": "completed"
    },
    "tags": []
   },
   "outputs": [
    {
     "data": {
      "text/html": [
       "<div>\n",
       "<style scoped>\n",
       "    .dataframe tbody tr th:only-of-type {\n",
       "        vertical-align: middle;\n",
       "    }\n",
       "\n",
       "    .dataframe tbody tr th {\n",
       "        vertical-align: top;\n",
       "    }\n",
       "\n",
       "    .dataframe thead th {\n",
       "        text-align: right;\n",
       "    }\n",
       "</style>\n",
       "<table border=\"1\" class=\"dataframe\">\n",
       "  <thead>\n",
       "    <tr style=\"text-align: right;\">\n",
       "      <th></th>\n",
       "      <th>id</th>\n",
       "      <th>f1</th>\n",
       "      <th>f2</th>\n",
       "      <th>f3</th>\n",
       "      <th>f4</th>\n",
       "      <th>f5</th>\n",
       "      <th>f6</th>\n",
       "      <th>f7</th>\n",
       "      <th>f8</th>\n",
       "      <th>f9</th>\n",
       "      <th>...</th>\n",
       "      <th>f109</th>\n",
       "      <th>f110</th>\n",
       "      <th>f111</th>\n",
       "      <th>f112</th>\n",
       "      <th>f113</th>\n",
       "      <th>f114</th>\n",
       "      <th>f115</th>\n",
       "      <th>f116</th>\n",
       "      <th>f117</th>\n",
       "      <th>f118</th>\n",
       "    </tr>\n",
       "  </thead>\n",
       "  <tbody>\n",
       "    <tr>\n",
       "      <th>0</th>\n",
       "      <td>957919</td>\n",
       "      <td>0.165850</td>\n",
       "      <td>0.487050</td>\n",
       "      <td>1295.00</td>\n",
       "      <td>0.02310</td>\n",
       "      <td>0.31900</td>\n",
       "      <td>0.90188</td>\n",
       "      <td>573.29</td>\n",
       "      <td>3743.7</td>\n",
       "      <td>2.705700e+12</td>\n",
       "      <td>...</td>\n",
       "      <td>0.16253</td>\n",
       "      <td>-22.1890</td>\n",
       "      <td>2.0655</td>\n",
       "      <td>0.430880</td>\n",
       "      <td>-10.7410</td>\n",
       "      <td>81606.0</td>\n",
       "      <td>1.1940</td>\n",
       "      <td>1.980400e+14</td>\n",
       "      <td>2017.1</td>\n",
       "      <td>0.46357</td>\n",
       "    </tr>\n",
       "    <tr>\n",
       "      <th>1</th>\n",
       "      <td>957920</td>\n",
       "      <td>0.129650</td>\n",
       "      <td>0.373480</td>\n",
       "      <td>1763.00</td>\n",
       "      <td>0.72884</td>\n",
       "      <td>0.33247</td>\n",
       "      <td>-1.26310</td>\n",
       "      <td>875.55</td>\n",
       "      <td>554370.0</td>\n",
       "      <td>5.955700e+14</td>\n",
       "      <td>...</td>\n",
       "      <td>0.81528</td>\n",
       "      <td>-1.6342</td>\n",
       "      <td>1.5736</td>\n",
       "      <td>-1.071200</td>\n",
       "      <td>11.8320</td>\n",
       "      <td>90114.0</td>\n",
       "      <td>1.1507</td>\n",
       "      <td>4.388000e+16</td>\n",
       "      <td>6638.9</td>\n",
       "      <td>0.28125</td>\n",
       "    </tr>\n",
       "    <tr>\n",
       "      <th>2</th>\n",
       "      <td>957921</td>\n",
       "      <td>0.120190</td>\n",
       "      <td>0.445210</td>\n",
       "      <td>736.26</td>\n",
       "      <td>0.04615</td>\n",
       "      <td>0.29605</td>\n",
       "      <td>0.31665</td>\n",
       "      <td>2659.50</td>\n",
       "      <td>317140.0</td>\n",
       "      <td>3.977800e+14</td>\n",
       "      <td>...</td>\n",
       "      <td>0.81831</td>\n",
       "      <td>-32.7800</td>\n",
       "      <td>2.1364</td>\n",
       "      <td>-1.931200</td>\n",
       "      <td>-3.2804</td>\n",
       "      <td>37739.0</td>\n",
       "      <td>1.1548</td>\n",
       "      <td>1.718100e+14</td>\n",
       "      <td>5844.0</td>\n",
       "      <td>0.13797</td>\n",
       "    </tr>\n",
       "    <tr>\n",
       "      <th>3</th>\n",
       "      <td>957922</td>\n",
       "      <td>0.054008</td>\n",
       "      <td>0.395960</td>\n",
       "      <td>996.14</td>\n",
       "      <td>0.85934</td>\n",
       "      <td>0.36678</td>\n",
       "      <td>-0.17060</td>\n",
       "      <td>386.56</td>\n",
       "      <td>325680.0</td>\n",
       "      <td>-3.432200e+13</td>\n",
       "      <td>...</td>\n",
       "      <td>0.86559</td>\n",
       "      <td>-2.4162</td>\n",
       "      <td>1.5199</td>\n",
       "      <td>-0.011633</td>\n",
       "      <td>1.3840</td>\n",
       "      <td>26849.0</td>\n",
       "      <td>1.1490</td>\n",
       "      <td>2.138800e+17</td>\n",
       "      <td>6173.3</td>\n",
       "      <td>0.32910</td>\n",
       "    </tr>\n",
       "    <tr>\n",
       "      <th>4</th>\n",
       "      <td>957923</td>\n",
       "      <td>0.079947</td>\n",
       "      <td>-0.006919</td>\n",
       "      <td>10574.00</td>\n",
       "      <td>0.34845</td>\n",
       "      <td>0.45008</td>\n",
       "      <td>-1.84200</td>\n",
       "      <td>3027.00</td>\n",
       "      <td>428150.0</td>\n",
       "      <td>9.291500e+11</td>\n",
       "      <td>...</td>\n",
       "      <td>0.25190</td>\n",
       "      <td>-18.6300</td>\n",
       "      <td>3.7387</td>\n",
       "      <td>0.757080</td>\n",
       "      <td>-4.9405</td>\n",
       "      <td>50336.0</td>\n",
       "      <td>1.2488</td>\n",
       "      <td>2.151300e+17</td>\n",
       "      <td>2250.1</td>\n",
       "      <td>0.33796</td>\n",
       "    </tr>\n",
       "  </tbody>\n",
       "</table>\n",
       "<p>5 rows × 119 columns</p>\n",
       "</div>"
      ],
      "text/plain": [
       "       id        f1        f2        f3       f4       f5       f6       f7  \\\n",
       "0  957919  0.165850  0.487050   1295.00  0.02310  0.31900  0.90188   573.29   \n",
       "1  957920  0.129650  0.373480   1763.00  0.72884  0.33247 -1.26310   875.55   \n",
       "2  957921  0.120190  0.445210    736.26  0.04615  0.29605  0.31665  2659.50   \n",
       "3  957922  0.054008  0.395960    996.14  0.85934  0.36678 -0.17060   386.56   \n",
       "4  957923  0.079947 -0.006919  10574.00  0.34845  0.45008 -1.84200  3027.00   \n",
       "\n",
       "         f8            f9  ...     f109     f110    f111      f112     f113  \\\n",
       "0    3743.7  2.705700e+12  ...  0.16253 -22.1890  2.0655  0.430880 -10.7410   \n",
       "1  554370.0  5.955700e+14  ...  0.81528  -1.6342  1.5736 -1.071200  11.8320   \n",
       "2  317140.0  3.977800e+14  ...  0.81831 -32.7800  2.1364 -1.931200  -3.2804   \n",
       "3  325680.0 -3.432200e+13  ...  0.86559  -2.4162  1.5199 -0.011633   1.3840   \n",
       "4  428150.0  9.291500e+11  ...  0.25190 -18.6300  3.7387  0.757080  -4.9405   \n",
       "\n",
       "      f114    f115          f116    f117     f118  \n",
       "0  81606.0  1.1940  1.980400e+14  2017.1  0.46357  \n",
       "1  90114.0  1.1507  4.388000e+16  6638.9  0.28125  \n",
       "2  37739.0  1.1548  1.718100e+14  5844.0  0.13797  \n",
       "3  26849.0  1.1490  2.138800e+17  6173.3  0.32910  \n",
       "4  50336.0  1.2488  2.151300e+17  2250.1  0.33796  \n",
       "\n",
       "[5 rows x 119 columns]"
      ]
     },
     "execution_count": 30,
     "metadata": {},
     "output_type": "execute_result"
    }
   ],
   "source": [
    "\n",
    "df_test=pd.read_csv(\"../input/tabular-playground-series-sep-2021/test.csv\")\n",
    "df_test.head()"
   ]
  },
  {
   "cell_type": "code",
   "execution_count": 31,
   "id": "9715ec53",
   "metadata": {
    "execution": {
     "iopub.execute_input": "2022-08-23T08:37:20.713510Z",
     "iopub.status.busy": "2022-08-23T08:37:20.713008Z",
     "iopub.status.idle": "2022-08-23T08:37:21.105535Z",
     "shell.execute_reply": "2022-08-23T08:37:21.104382Z"
    },
    "papermill": {
     "duration": 0.430569,
     "end_time": "2022-08-23T08:37:21.108876",
     "exception": false,
     "start_time": "2022-08-23T08:37:20.678307",
     "status": "completed"
    },
    "tags": []
   },
   "outputs": [
    {
     "data": {
      "text/html": [
       "<div>\n",
       "<style scoped>\n",
       "    .dataframe tbody tr th:only-of-type {\n",
       "        vertical-align: middle;\n",
       "    }\n",
       "\n",
       "    .dataframe tbody tr th {\n",
       "        vertical-align: top;\n",
       "    }\n",
       "\n",
       "    .dataframe thead th {\n",
       "        text-align: right;\n",
       "    }\n",
       "</style>\n",
       "<table border=\"1\" class=\"dataframe\">\n",
       "  <thead>\n",
       "    <tr style=\"text-align: right;\">\n",
       "      <th></th>\n",
       "      <th>f1</th>\n",
       "      <th>f2</th>\n",
       "      <th>f3</th>\n",
       "      <th>f4</th>\n",
       "      <th>f5</th>\n",
       "      <th>f6</th>\n",
       "      <th>f7</th>\n",
       "      <th>f8</th>\n",
       "      <th>f9</th>\n",
       "      <th>f10</th>\n",
       "      <th>...</th>\n",
       "      <th>f109</th>\n",
       "      <th>f110</th>\n",
       "      <th>f111</th>\n",
       "      <th>f112</th>\n",
       "      <th>f113</th>\n",
       "      <th>f114</th>\n",
       "      <th>f115</th>\n",
       "      <th>f116</th>\n",
       "      <th>f117</th>\n",
       "      <th>f118</th>\n",
       "    </tr>\n",
       "    <tr>\n",
       "      <th>id</th>\n",
       "      <th></th>\n",
       "      <th></th>\n",
       "      <th></th>\n",
       "      <th></th>\n",
       "      <th></th>\n",
       "      <th></th>\n",
       "      <th></th>\n",
       "      <th></th>\n",
       "      <th></th>\n",
       "      <th></th>\n",
       "      <th></th>\n",
       "      <th></th>\n",
       "      <th></th>\n",
       "      <th></th>\n",
       "      <th></th>\n",
       "      <th></th>\n",
       "      <th></th>\n",
       "      <th></th>\n",
       "      <th></th>\n",
       "      <th></th>\n",
       "      <th></th>\n",
       "    </tr>\n",
       "  </thead>\n",
       "  <tbody>\n",
       "    <tr>\n",
       "      <th>957919</th>\n",
       "      <td>0.165850</td>\n",
       "      <td>0.487050</td>\n",
       "      <td>1295.00</td>\n",
       "      <td>0.023100</td>\n",
       "      <td>0.31900</td>\n",
       "      <td>0.901880</td>\n",
       "      <td>573.29</td>\n",
       "      <td>3743.7</td>\n",
       "      <td>2.705700e+12</td>\n",
       "      <td>6221.000000</td>\n",
       "      <td>...</td>\n",
       "      <td>0.162530</td>\n",
       "      <td>-22.1890</td>\n",
       "      <td>2.0655</td>\n",
       "      <td>0.430880</td>\n",
       "      <td>-10.7410</td>\n",
       "      <td>81606.00</td>\n",
       "      <td>1.1940</td>\n",
       "      <td>1.980400e+14</td>\n",
       "      <td>2017.10</td>\n",
       "      <td>0.46357</td>\n",
       "    </tr>\n",
       "    <tr>\n",
       "      <th>957920</th>\n",
       "      <td>0.129650</td>\n",
       "      <td>0.373480</td>\n",
       "      <td>1763.00</td>\n",
       "      <td>0.728840</td>\n",
       "      <td>0.33247</td>\n",
       "      <td>-1.263100</td>\n",
       "      <td>875.55</td>\n",
       "      <td>554370.0</td>\n",
       "      <td>5.955700e+14</td>\n",
       "      <td>934.430000</td>\n",
       "      <td>...</td>\n",
       "      <td>0.815280</td>\n",
       "      <td>-1.6342</td>\n",
       "      <td>1.5736</td>\n",
       "      <td>-1.071200</td>\n",
       "      <td>11.8320</td>\n",
       "      <td>90114.00</td>\n",
       "      <td>1.1507</td>\n",
       "      <td>4.388000e+16</td>\n",
       "      <td>6638.90</td>\n",
       "      <td>0.28125</td>\n",
       "    </tr>\n",
       "    <tr>\n",
       "      <th>957921</th>\n",
       "      <td>0.120190</td>\n",
       "      <td>0.445210</td>\n",
       "      <td>736.26</td>\n",
       "      <td>0.046150</td>\n",
       "      <td>0.29605</td>\n",
       "      <td>0.316650</td>\n",
       "      <td>2659.50</td>\n",
       "      <td>317140.0</td>\n",
       "      <td>3.977800e+14</td>\n",
       "      <td>131.810000</td>\n",
       "      <td>...</td>\n",
       "      <td>0.818310</td>\n",
       "      <td>-32.7800</td>\n",
       "      <td>2.1364</td>\n",
       "      <td>-1.931200</td>\n",
       "      <td>-3.2804</td>\n",
       "      <td>37739.00</td>\n",
       "      <td>1.1548</td>\n",
       "      <td>1.718100e+14</td>\n",
       "      <td>5844.00</td>\n",
       "      <td>0.13797</td>\n",
       "    </tr>\n",
       "    <tr>\n",
       "      <th>957922</th>\n",
       "      <td>0.054008</td>\n",
       "      <td>0.395960</td>\n",
       "      <td>996.14</td>\n",
       "      <td>0.859340</td>\n",
       "      <td>0.36678</td>\n",
       "      <td>-0.170600</td>\n",
       "      <td>386.56</td>\n",
       "      <td>325680.0</td>\n",
       "      <td>-3.432200e+13</td>\n",
       "      <td>-26.473000</td>\n",
       "      <td>...</td>\n",
       "      <td>0.865590</td>\n",
       "      <td>-2.4162</td>\n",
       "      <td>1.5199</td>\n",
       "      <td>-0.011633</td>\n",
       "      <td>1.3840</td>\n",
       "      <td>26849.00</td>\n",
       "      <td>1.1490</td>\n",
       "      <td>2.138800e+17</td>\n",
       "      <td>6173.30</td>\n",
       "      <td>0.32910</td>\n",
       "    </tr>\n",
       "    <tr>\n",
       "      <th>957923</th>\n",
       "      <td>0.079947</td>\n",
       "      <td>-0.006919</td>\n",
       "      <td>10574.00</td>\n",
       "      <td>0.348450</td>\n",
       "      <td>0.45008</td>\n",
       "      <td>-1.842000</td>\n",
       "      <td>3027.00</td>\n",
       "      <td>428150.0</td>\n",
       "      <td>9.291500e+11</td>\n",
       "      <td>5999.400000</td>\n",
       "      <td>...</td>\n",
       "      <td>0.251900</td>\n",
       "      <td>-18.6300</td>\n",
       "      <td>3.7387</td>\n",
       "      <td>0.757080</td>\n",
       "      <td>-4.9405</td>\n",
       "      <td>50336.00</td>\n",
       "      <td>1.2488</td>\n",
       "      <td>2.151300e+17</td>\n",
       "      <td>2250.10</td>\n",
       "      <td>0.33796</td>\n",
       "    </tr>\n",
       "    <tr>\n",
       "      <th>...</th>\n",
       "      <td>...</td>\n",
       "      <td>...</td>\n",
       "      <td>...</td>\n",
       "      <td>...</td>\n",
       "      <td>...</td>\n",
       "      <td>...</td>\n",
       "      <td>...</td>\n",
       "      <td>...</td>\n",
       "      <td>...</td>\n",
       "      <td>...</td>\n",
       "      <td>...</td>\n",
       "      <td>...</td>\n",
       "      <td>...</td>\n",
       "      <td>...</td>\n",
       "      <td>...</td>\n",
       "      <td>...</td>\n",
       "      <td>...</td>\n",
       "      <td>...</td>\n",
       "      <td>...</td>\n",
       "      <td>...</td>\n",
       "      <td>...</td>\n",
       "    </tr>\n",
       "    <tr>\n",
       "      <th>1451388</th>\n",
       "      <td>-0.009112</td>\n",
       "      <td>0.308190</td>\n",
       "      <td>637.64</td>\n",
       "      <td>0.778200</td>\n",
       "      <td>0.41415</td>\n",
       "      <td>-1.068500</td>\n",
       "      <td>651.22</td>\n",
       "      <td>985000.0</td>\n",
       "      <td>6.079700e+15</td>\n",
       "      <td>508.820000</td>\n",
       "      <td>...</td>\n",
       "      <td>0.249550</td>\n",
       "      <td>-17.5100</td>\n",
       "      <td>2.3325</td>\n",
       "      <td>0.112260</td>\n",
       "      <td>-5.9238</td>\n",
       "      <td>NaN</td>\n",
       "      <td>1.1559</td>\n",
       "      <td>8.163900e+16</td>\n",
       "      <td>857.09</td>\n",
       "      <td>1.56330</td>\n",
       "    </tr>\n",
       "    <tr>\n",
       "      <th>1451389</th>\n",
       "      <td>0.088922</td>\n",
       "      <td>0.482650</td>\n",
       "      <td>6924.10</td>\n",
       "      <td>0.025963</td>\n",
       "      <td>0.35540</td>\n",
       "      <td>-0.870200</td>\n",
       "      <td>2514.20</td>\n",
       "      <td>18004.0</td>\n",
       "      <td>6.073500e+14</td>\n",
       "      <td>-0.008665</td>\n",
       "      <td>...</td>\n",
       "      <td>0.017970</td>\n",
       "      <td>-7.8690</td>\n",
       "      <td>1.7005</td>\n",
       "      <td>97.813000</td>\n",
       "      <td>4.3793</td>\n",
       "      <td>-2432.00</td>\n",
       "      <td>1.0707</td>\n",
       "      <td>4.691800e+16</td>\n",
       "      <td>7497.10</td>\n",
       "      <td>0.67075</td>\n",
       "    </tr>\n",
       "    <tr>\n",
       "      <th>1451390</th>\n",
       "      <td>0.140620</td>\n",
       "      <td>0.484750</td>\n",
       "      <td>1797.10</td>\n",
       "      <td>0.147020</td>\n",
       "      <td>0.28803</td>\n",
       "      <td>-1.407100</td>\n",
       "      <td>434.03</td>\n",
       "      <td>333050.0</td>\n",
       "      <td>2.351000e+15</td>\n",
       "      <td>33492.000000</td>\n",
       "      <td>...</td>\n",
       "      <td>0.013841</td>\n",
       "      <td>-5.3824</td>\n",
       "      <td>1.6827</td>\n",
       "      <td>NaN</td>\n",
       "      <td>8.0633</td>\n",
       "      <td>2471.40</td>\n",
       "      <td>1.1725</td>\n",
       "      <td>7.900900e+16</td>\n",
       "      <td>2904.60</td>\n",
       "      <td>0.18005</td>\n",
       "    </tr>\n",
       "    <tr>\n",
       "      <th>1451391</th>\n",
       "      <td>0.168000</td>\n",
       "      <td>0.351760</td>\n",
       "      <td>454.79</td>\n",
       "      <td>0.164580</td>\n",
       "      <td>0.16983</td>\n",
       "      <td>0.323850</td>\n",
       "      <td>2331.20</td>\n",
       "      <td>223980.0</td>\n",
       "      <td>-2.795300e+12</td>\n",
       "      <td>93.561000</td>\n",
       "      <td>...</td>\n",
       "      <td>0.858730</td>\n",
       "      <td>-4.2416</td>\n",
       "      <td>1.3531</td>\n",
       "      <td>155.210000</td>\n",
       "      <td>13.9630</td>\n",
       "      <td>-11.44</td>\n",
       "      <td>1.1946</td>\n",
       "      <td>-1.770600e+14</td>\n",
       "      <td>6763.10</td>\n",
       "      <td>0.33223</td>\n",
       "    </tr>\n",
       "    <tr>\n",
       "      <th>1451392</th>\n",
       "      <td>0.093079</td>\n",
       "      <td>0.501860</td>\n",
       "      <td>3322.40</td>\n",
       "      <td>NaN</td>\n",
       "      <td>0.33269</td>\n",
       "      <td>0.056827</td>\n",
       "      <td>2568.70</td>\n",
       "      <td>39185.0</td>\n",
       "      <td>1.489300e+14</td>\n",
       "      <td>-318.920000</td>\n",
       "      <td>...</td>\n",
       "      <td>0.889390</td>\n",
       "      <td>-13.9390</td>\n",
       "      <td>1.4480</td>\n",
       "      <td>-1.512900</td>\n",
       "      <td>-15.4360</td>\n",
       "      <td>662.46</td>\n",
       "      <td>1.1778</td>\n",
       "      <td>2.459300e+15</td>\n",
       "      <td>8770.00</td>\n",
       "      <td>0.95503</td>\n",
       "    </tr>\n",
       "  </tbody>\n",
       "</table>\n",
       "<p>493474 rows × 118 columns</p>\n",
       "</div>"
      ],
      "text/plain": [
       "               f1        f2        f3        f4       f5        f6       f7  \\\n",
       "id                                                                            \n",
       "957919   0.165850  0.487050   1295.00  0.023100  0.31900  0.901880   573.29   \n",
       "957920   0.129650  0.373480   1763.00  0.728840  0.33247 -1.263100   875.55   \n",
       "957921   0.120190  0.445210    736.26  0.046150  0.29605  0.316650  2659.50   \n",
       "957922   0.054008  0.395960    996.14  0.859340  0.36678 -0.170600   386.56   \n",
       "957923   0.079947 -0.006919  10574.00  0.348450  0.45008 -1.842000  3027.00   \n",
       "...           ...       ...       ...       ...      ...       ...      ...   \n",
       "1451388 -0.009112  0.308190    637.64  0.778200  0.41415 -1.068500   651.22   \n",
       "1451389  0.088922  0.482650   6924.10  0.025963  0.35540 -0.870200  2514.20   \n",
       "1451390  0.140620  0.484750   1797.10  0.147020  0.28803 -1.407100   434.03   \n",
       "1451391  0.168000  0.351760    454.79  0.164580  0.16983  0.323850  2331.20   \n",
       "1451392  0.093079  0.501860   3322.40       NaN  0.33269  0.056827  2568.70   \n",
       "\n",
       "               f8            f9           f10  ...      f109     f110    f111  \\\n",
       "id                                             ...                              \n",
       "957919     3743.7  2.705700e+12   6221.000000  ...  0.162530 -22.1890  2.0655   \n",
       "957920   554370.0  5.955700e+14    934.430000  ...  0.815280  -1.6342  1.5736   \n",
       "957921   317140.0  3.977800e+14    131.810000  ...  0.818310 -32.7800  2.1364   \n",
       "957922   325680.0 -3.432200e+13    -26.473000  ...  0.865590  -2.4162  1.5199   \n",
       "957923   428150.0  9.291500e+11   5999.400000  ...  0.251900 -18.6300  3.7387   \n",
       "...           ...           ...           ...  ...       ...      ...     ...   \n",
       "1451388  985000.0  6.079700e+15    508.820000  ...  0.249550 -17.5100  2.3325   \n",
       "1451389   18004.0  6.073500e+14     -0.008665  ...  0.017970  -7.8690  1.7005   \n",
       "1451390  333050.0  2.351000e+15  33492.000000  ...  0.013841  -5.3824  1.6827   \n",
       "1451391  223980.0 -2.795300e+12     93.561000  ...  0.858730  -4.2416  1.3531   \n",
       "1451392   39185.0  1.489300e+14   -318.920000  ...  0.889390 -13.9390  1.4480   \n",
       "\n",
       "               f112     f113      f114    f115          f116     f117     f118  \n",
       "id                                                                              \n",
       "957919     0.430880 -10.7410  81606.00  1.1940  1.980400e+14  2017.10  0.46357  \n",
       "957920    -1.071200  11.8320  90114.00  1.1507  4.388000e+16  6638.90  0.28125  \n",
       "957921    -1.931200  -3.2804  37739.00  1.1548  1.718100e+14  5844.00  0.13797  \n",
       "957922    -0.011633   1.3840  26849.00  1.1490  2.138800e+17  6173.30  0.32910  \n",
       "957923     0.757080  -4.9405  50336.00  1.2488  2.151300e+17  2250.10  0.33796  \n",
       "...             ...      ...       ...     ...           ...      ...      ...  \n",
       "1451388    0.112260  -5.9238       NaN  1.1559  8.163900e+16   857.09  1.56330  \n",
       "1451389   97.813000   4.3793  -2432.00  1.0707  4.691800e+16  7497.10  0.67075  \n",
       "1451390         NaN   8.0633   2471.40  1.1725  7.900900e+16  2904.60  0.18005  \n",
       "1451391  155.210000  13.9630    -11.44  1.1946 -1.770600e+14  6763.10  0.33223  \n",
       "1451392   -1.512900 -15.4360    662.46  1.1778  2.459300e+15  8770.00  0.95503  \n",
       "\n",
       "[493474 rows x 118 columns]"
      ]
     },
     "execution_count": 31,
     "metadata": {},
     "output_type": "execute_result"
    }
   ],
   "source": [
    "df_test.set_index('id')"
   ]
  },
  {
   "cell_type": "code",
   "execution_count": 32,
   "id": "e24013aa",
   "metadata": {
    "execution": {
     "iopub.execute_input": "2022-08-23T08:37:21.150373Z",
     "iopub.status.busy": "2022-08-23T08:37:21.149848Z",
     "iopub.status.idle": "2022-08-23T08:37:21.987028Z",
     "shell.execute_reply": "2022-08-23T08:37:21.985983Z"
    },
    "papermill": {
     "duration": 0.858805,
     "end_time": "2022-08-23T08:37:21.989034",
     "exception": false,
     "start_time": "2022-08-23T08:37:21.130229",
     "status": "completed"
    },
    "tags": []
   },
   "outputs": [
    {
     "data": {
      "text/plain": [
       "0"
      ]
     },
     "execution_count": 32,
     "metadata": {},
     "output_type": "execute_result"
    }
   ],
   "source": [
    "df_test.isnull().sum().sum()\n",
    "df_test=df_test.fillna(df_test.mean())\n",
    "df_test.isnull().sum().sum()"
   ]
  },
  {
   "cell_type": "code",
   "execution_count": 33,
   "id": "1e3b9e79",
   "metadata": {
    "execution": {
     "iopub.execute_input": "2022-08-23T08:37:22.014204Z",
     "iopub.status.busy": "2022-08-23T08:37:22.013858Z",
     "iopub.status.idle": "2022-08-23T08:37:23.696808Z",
     "shell.execute_reply": "2022-08-23T08:37:23.696011Z"
    },
    "papermill": {
     "duration": 1.69868,
     "end_time": "2022-08-23T08:37:23.699379",
     "exception": false,
     "start_time": "2022-08-23T08:37:22.000699",
     "status": "completed"
    },
    "tags": []
   },
   "outputs": [],
   "source": [
    "y_pred_test = model.predict(df_test)\n"
   ]
  },
  {
   "cell_type": "code",
   "execution_count": 34,
   "id": "f6b80771",
   "metadata": {
    "execution": {
     "iopub.execute_input": "2022-08-23T08:37:23.724649Z",
     "iopub.status.busy": "2022-08-23T08:37:23.724317Z",
     "iopub.status.idle": "2022-08-23T08:37:23.749555Z",
     "shell.execute_reply": "2022-08-23T08:37:23.748508Z"
    },
    "papermill": {
     "duration": 0.040414,
     "end_time": "2022-08-23T08:37:23.751997",
     "exception": false,
     "start_time": "2022-08-23T08:37:23.711583",
     "status": "completed"
    },
    "tags": []
   },
   "outputs": [
    {
     "data": {
      "text/html": [
       "<div>\n",
       "<style scoped>\n",
       "    .dataframe tbody tr th:only-of-type {\n",
       "        vertical-align: middle;\n",
       "    }\n",
       "\n",
       "    .dataframe tbody tr th {\n",
       "        vertical-align: top;\n",
       "    }\n",
       "\n",
       "    .dataframe thead th {\n",
       "        text-align: right;\n",
       "    }\n",
       "</style>\n",
       "<table border=\"1\" class=\"dataframe\">\n",
       "  <thead>\n",
       "    <tr style=\"text-align: right;\">\n",
       "      <th></th>\n",
       "      <th>id</th>\n",
       "      <th>f1</th>\n",
       "      <th>f2</th>\n",
       "      <th>f3</th>\n",
       "      <th>f4</th>\n",
       "      <th>f5</th>\n",
       "      <th>f6</th>\n",
       "      <th>f7</th>\n",
       "      <th>f8</th>\n",
       "      <th>f9</th>\n",
       "      <th>...</th>\n",
       "      <th>f109</th>\n",
       "      <th>f110</th>\n",
       "      <th>f111</th>\n",
       "      <th>f112</th>\n",
       "      <th>f113</th>\n",
       "      <th>f114</th>\n",
       "      <th>f115</th>\n",
       "      <th>f116</th>\n",
       "      <th>f117</th>\n",
       "      <th>f118</th>\n",
       "    </tr>\n",
       "  </thead>\n",
       "  <tbody>\n",
       "    <tr>\n",
       "      <th>0</th>\n",
       "      <td>957919</td>\n",
       "      <td>0.165850</td>\n",
       "      <td>0.487050</td>\n",
       "      <td>1295.00</td>\n",
       "      <td>0.02310</td>\n",
       "      <td>0.31900</td>\n",
       "      <td>0.90188</td>\n",
       "      <td>573.29</td>\n",
       "      <td>3743.7</td>\n",
       "      <td>2.705700e+12</td>\n",
       "      <td>...</td>\n",
       "      <td>0.16253</td>\n",
       "      <td>-22.1890</td>\n",
       "      <td>2.0655</td>\n",
       "      <td>0.430880</td>\n",
       "      <td>-10.7410</td>\n",
       "      <td>81606.0</td>\n",
       "      <td>1.1940</td>\n",
       "      <td>1.980400e+14</td>\n",
       "      <td>2017.1</td>\n",
       "      <td>0.46357</td>\n",
       "    </tr>\n",
       "    <tr>\n",
       "      <th>1</th>\n",
       "      <td>957920</td>\n",
       "      <td>0.129650</td>\n",
       "      <td>0.373480</td>\n",
       "      <td>1763.00</td>\n",
       "      <td>0.72884</td>\n",
       "      <td>0.33247</td>\n",
       "      <td>-1.26310</td>\n",
       "      <td>875.55</td>\n",
       "      <td>554370.0</td>\n",
       "      <td>5.955700e+14</td>\n",
       "      <td>...</td>\n",
       "      <td>0.81528</td>\n",
       "      <td>-1.6342</td>\n",
       "      <td>1.5736</td>\n",
       "      <td>-1.071200</td>\n",
       "      <td>11.8320</td>\n",
       "      <td>90114.0</td>\n",
       "      <td>1.1507</td>\n",
       "      <td>4.388000e+16</td>\n",
       "      <td>6638.9</td>\n",
       "      <td>0.28125</td>\n",
       "    </tr>\n",
       "    <tr>\n",
       "      <th>2</th>\n",
       "      <td>957921</td>\n",
       "      <td>0.120190</td>\n",
       "      <td>0.445210</td>\n",
       "      <td>736.26</td>\n",
       "      <td>0.04615</td>\n",
       "      <td>0.29605</td>\n",
       "      <td>0.31665</td>\n",
       "      <td>2659.50</td>\n",
       "      <td>317140.0</td>\n",
       "      <td>3.977800e+14</td>\n",
       "      <td>...</td>\n",
       "      <td>0.81831</td>\n",
       "      <td>-32.7800</td>\n",
       "      <td>2.1364</td>\n",
       "      <td>-1.931200</td>\n",
       "      <td>-3.2804</td>\n",
       "      <td>37739.0</td>\n",
       "      <td>1.1548</td>\n",
       "      <td>1.718100e+14</td>\n",
       "      <td>5844.0</td>\n",
       "      <td>0.13797</td>\n",
       "    </tr>\n",
       "    <tr>\n",
       "      <th>3</th>\n",
       "      <td>957922</td>\n",
       "      <td>0.054008</td>\n",
       "      <td>0.395960</td>\n",
       "      <td>996.14</td>\n",
       "      <td>0.85934</td>\n",
       "      <td>0.36678</td>\n",
       "      <td>-0.17060</td>\n",
       "      <td>386.56</td>\n",
       "      <td>325680.0</td>\n",
       "      <td>-3.432200e+13</td>\n",
       "      <td>...</td>\n",
       "      <td>0.86559</td>\n",
       "      <td>-2.4162</td>\n",
       "      <td>1.5199</td>\n",
       "      <td>-0.011633</td>\n",
       "      <td>1.3840</td>\n",
       "      <td>26849.0</td>\n",
       "      <td>1.1490</td>\n",
       "      <td>2.138800e+17</td>\n",
       "      <td>6173.3</td>\n",
       "      <td>0.32910</td>\n",
       "    </tr>\n",
       "    <tr>\n",
       "      <th>4</th>\n",
       "      <td>957923</td>\n",
       "      <td>0.079947</td>\n",
       "      <td>-0.006919</td>\n",
       "      <td>10574.00</td>\n",
       "      <td>0.34845</td>\n",
       "      <td>0.45008</td>\n",
       "      <td>-1.84200</td>\n",
       "      <td>3027.00</td>\n",
       "      <td>428150.0</td>\n",
       "      <td>9.291500e+11</td>\n",
       "      <td>...</td>\n",
       "      <td>0.25190</td>\n",
       "      <td>-18.6300</td>\n",
       "      <td>3.7387</td>\n",
       "      <td>0.757080</td>\n",
       "      <td>-4.9405</td>\n",
       "      <td>50336.0</td>\n",
       "      <td>1.2488</td>\n",
       "      <td>2.151300e+17</td>\n",
       "      <td>2250.1</td>\n",
       "      <td>0.33796</td>\n",
       "    </tr>\n",
       "  </tbody>\n",
       "</table>\n",
       "<p>5 rows × 119 columns</p>\n",
       "</div>"
      ],
      "text/plain": [
       "       id        f1        f2        f3       f4       f5       f6       f7  \\\n",
       "0  957919  0.165850  0.487050   1295.00  0.02310  0.31900  0.90188   573.29   \n",
       "1  957920  0.129650  0.373480   1763.00  0.72884  0.33247 -1.26310   875.55   \n",
       "2  957921  0.120190  0.445210    736.26  0.04615  0.29605  0.31665  2659.50   \n",
       "3  957922  0.054008  0.395960    996.14  0.85934  0.36678 -0.17060   386.56   \n",
       "4  957923  0.079947 -0.006919  10574.00  0.34845  0.45008 -1.84200  3027.00   \n",
       "\n",
       "         f8            f9  ...     f109     f110    f111      f112     f113  \\\n",
       "0    3743.7  2.705700e+12  ...  0.16253 -22.1890  2.0655  0.430880 -10.7410   \n",
       "1  554370.0  5.955700e+14  ...  0.81528  -1.6342  1.5736 -1.071200  11.8320   \n",
       "2  317140.0  3.977800e+14  ...  0.81831 -32.7800  2.1364 -1.931200  -3.2804   \n",
       "3  325680.0 -3.432200e+13  ...  0.86559  -2.4162  1.5199 -0.011633   1.3840   \n",
       "4  428150.0  9.291500e+11  ...  0.25190 -18.6300  3.7387  0.757080  -4.9405   \n",
       "\n",
       "      f114    f115          f116    f117     f118  \n",
       "0  81606.0  1.1940  1.980400e+14  2017.1  0.46357  \n",
       "1  90114.0  1.1507  4.388000e+16  6638.9  0.28125  \n",
       "2  37739.0  1.1548  1.718100e+14  5844.0  0.13797  \n",
       "3  26849.0  1.1490  2.138800e+17  6173.3  0.32910  \n",
       "4  50336.0  1.2488  2.151300e+17  2250.1  0.33796  \n",
       "\n",
       "[5 rows x 119 columns]"
      ]
     },
     "execution_count": 34,
     "metadata": {},
     "output_type": "execute_result"
    }
   ],
   "source": [
    "df_test.head(5)"
   ]
  },
  {
   "cell_type": "code",
   "execution_count": 35,
   "id": "aad3d417",
   "metadata": {
    "execution": {
     "iopub.execute_input": "2022-08-23T08:37:23.776642Z",
     "iopub.status.busy": "2022-08-23T08:37:23.776339Z",
     "iopub.status.idle": "2022-08-23T08:37:23.781973Z",
     "shell.execute_reply": "2022-08-23T08:37:23.781123Z"
    },
    "papermill": {
     "duration": 0.020286,
     "end_time": "2022-08-23T08:37:23.784118",
     "exception": false,
     "start_time": "2022-08-23T08:37:23.763832",
     "status": "completed"
    },
    "tags": []
   },
   "outputs": [],
   "source": [
    "df_test['claim'] = y_pred_test\n"
   ]
  },
  {
   "cell_type": "code",
   "execution_count": 36,
   "id": "1024af2f",
   "metadata": {
    "execution": {
     "iopub.execute_input": "2022-08-23T08:37:23.808877Z",
     "iopub.status.busy": "2022-08-23T08:37:23.808570Z",
     "iopub.status.idle": "2022-08-23T08:37:23.819082Z",
     "shell.execute_reply": "2022-08-23T08:37:23.818235Z"
    },
    "papermill": {
     "duration": 0.025612,
     "end_time": "2022-08-23T08:37:23.821150",
     "exception": false,
     "start_time": "2022-08-23T08:37:23.795538",
     "status": "completed"
    },
    "tags": []
   },
   "outputs": [],
   "source": [
    "df_test_new = df_test[['id', 'claim']]\n"
   ]
  },
  {
   "cell_type": "code",
   "execution_count": 37,
   "id": "0a799b57",
   "metadata": {
    "execution": {
     "iopub.execute_input": "2022-08-23T08:37:23.846227Z",
     "iopub.status.busy": "2022-08-23T08:37:23.845890Z",
     "iopub.status.idle": "2022-08-23T08:37:23.856035Z",
     "shell.execute_reply": "2022-08-23T08:37:23.855028Z"
    },
    "papermill": {
     "duration": 0.025009,
     "end_time": "2022-08-23T08:37:23.858226",
     "exception": false,
     "start_time": "2022-08-23T08:37:23.833217",
     "status": "completed"
    },
    "tags": []
   },
   "outputs": [
    {
     "data": {
      "text/html": [
       "<div>\n",
       "<style scoped>\n",
       "    .dataframe tbody tr th:only-of-type {\n",
       "        vertical-align: middle;\n",
       "    }\n",
       "\n",
       "    .dataframe tbody tr th {\n",
       "        vertical-align: top;\n",
       "    }\n",
       "\n",
       "    .dataframe thead th {\n",
       "        text-align: right;\n",
       "    }\n",
       "</style>\n",
       "<table border=\"1\" class=\"dataframe\">\n",
       "  <thead>\n",
       "    <tr style=\"text-align: right;\">\n",
       "      <th></th>\n",
       "      <th>id</th>\n",
       "      <th>claim</th>\n",
       "    </tr>\n",
       "  </thead>\n",
       "  <tbody>\n",
       "    <tr>\n",
       "      <th>0</th>\n",
       "      <td>957919</td>\n",
       "      <td>1</td>\n",
       "    </tr>\n",
       "    <tr>\n",
       "      <th>1</th>\n",
       "      <td>957920</td>\n",
       "      <td>0</td>\n",
       "    </tr>\n",
       "    <tr>\n",
       "      <th>2</th>\n",
       "      <td>957921</td>\n",
       "      <td>0</td>\n",
       "    </tr>\n",
       "    <tr>\n",
       "      <th>3</th>\n",
       "      <td>957922</td>\n",
       "      <td>1</td>\n",
       "    </tr>\n",
       "    <tr>\n",
       "      <th>4</th>\n",
       "      <td>957923</td>\n",
       "      <td>1</td>\n",
       "    </tr>\n",
       "  </tbody>\n",
       "</table>\n",
       "</div>"
      ],
      "text/plain": [
       "       id  claim\n",
       "0  957919      1\n",
       "1  957920      0\n",
       "2  957921      0\n",
       "3  957922      1\n",
       "4  957923      1"
      ]
     },
     "execution_count": 37,
     "metadata": {},
     "output_type": "execute_result"
    }
   ],
   "source": [
    "df_test_new.head(5)"
   ]
  },
  {
   "cell_type": "code",
   "execution_count": 38,
   "id": "00675e62",
   "metadata": {
    "execution": {
     "iopub.execute_input": "2022-08-23T08:37:23.885005Z",
     "iopub.status.busy": "2022-08-23T08:37:23.884644Z",
     "iopub.status.idle": "2022-08-23T08:37:23.896320Z",
     "shell.execute_reply": "2022-08-23T08:37:23.895318Z"
    },
    "papermill": {
     "duration": 0.027597,
     "end_time": "2022-08-23T08:37:23.898581",
     "exception": false,
     "start_time": "2022-08-23T08:37:23.870984",
     "status": "completed"
    },
    "tags": []
   },
   "outputs": [
    {
     "data": {
      "text/html": [
       "<div>\n",
       "<style scoped>\n",
       "    .dataframe tbody tr th:only-of-type {\n",
       "        vertical-align: middle;\n",
       "    }\n",
       "\n",
       "    .dataframe tbody tr th {\n",
       "        vertical-align: top;\n",
       "    }\n",
       "\n",
       "    .dataframe thead th {\n",
       "        text-align: right;\n",
       "    }\n",
       "</style>\n",
       "<table border=\"1\" class=\"dataframe\">\n",
       "  <thead>\n",
       "    <tr style=\"text-align: right;\">\n",
       "      <th></th>\n",
       "      <th>claim</th>\n",
       "    </tr>\n",
       "    <tr>\n",
       "      <th>id</th>\n",
       "      <th></th>\n",
       "    </tr>\n",
       "  </thead>\n",
       "  <tbody>\n",
       "    <tr>\n",
       "      <th>957919</th>\n",
       "      <td>1</td>\n",
       "    </tr>\n",
       "    <tr>\n",
       "      <th>957920</th>\n",
       "      <td>0</td>\n",
       "    </tr>\n",
       "    <tr>\n",
       "      <th>957921</th>\n",
       "      <td>0</td>\n",
       "    </tr>\n",
       "    <tr>\n",
       "      <th>957922</th>\n",
       "      <td>1</td>\n",
       "    </tr>\n",
       "    <tr>\n",
       "      <th>957923</th>\n",
       "      <td>1</td>\n",
       "    </tr>\n",
       "    <tr>\n",
       "      <th>...</th>\n",
       "      <td>...</td>\n",
       "    </tr>\n",
       "    <tr>\n",
       "      <th>1451388</th>\n",
       "      <td>1</td>\n",
       "    </tr>\n",
       "    <tr>\n",
       "      <th>1451389</th>\n",
       "      <td>0</td>\n",
       "    </tr>\n",
       "    <tr>\n",
       "      <th>1451390</th>\n",
       "      <td>1</td>\n",
       "    </tr>\n",
       "    <tr>\n",
       "      <th>1451391</th>\n",
       "      <td>0</td>\n",
       "    </tr>\n",
       "    <tr>\n",
       "      <th>1451392</th>\n",
       "      <td>1</td>\n",
       "    </tr>\n",
       "  </tbody>\n",
       "</table>\n",
       "<p>493474 rows × 1 columns</p>\n",
       "</div>"
      ],
      "text/plain": [
       "         claim\n",
       "id            \n",
       "957919       1\n",
       "957920       0\n",
       "957921       0\n",
       "957922       1\n",
       "957923       1\n",
       "...        ...\n",
       "1451388      1\n",
       "1451389      0\n",
       "1451390      1\n",
       "1451391      0\n",
       "1451392      1\n",
       "\n",
       "[493474 rows x 1 columns]"
      ]
     },
     "execution_count": 38,
     "metadata": {},
     "output_type": "execute_result"
    }
   ],
   "source": [
    "df_test_new.set_index('id')"
   ]
  },
  {
   "cell_type": "code",
   "execution_count": 39,
   "id": "145c0894",
   "metadata": {
    "execution": {
     "iopub.execute_input": "2022-08-23T08:37:23.924041Z",
     "iopub.status.busy": "2022-08-23T08:37:23.923734Z",
     "iopub.status.idle": "2022-08-23T08:37:24.568939Z",
     "shell.execute_reply": "2022-08-23T08:37:24.567872Z"
    },
    "papermill": {
     "duration": 0.661027,
     "end_time": "2022-08-23T08:37:24.571632",
     "exception": false,
     "start_time": "2022-08-23T08:37:23.910605",
     "status": "completed"
    },
    "tags": []
   },
   "outputs": [],
   "source": [
    "sample_solution3=df_test_new.to_csv(\"sample_solution5.csv\")\n"
   ]
  },
  {
   "cell_type": "code",
   "execution_count": 40,
   "id": "7a291842",
   "metadata": {
    "execution": {
     "iopub.execute_input": "2022-08-23T08:37:24.599367Z",
     "iopub.status.busy": "2022-08-23T08:37:24.598474Z",
     "iopub.status.idle": "2022-08-23T08:37:24.602792Z",
     "shell.execute_reply": "2022-08-23T08:37:24.601883Z"
    },
    "papermill": {
     "duration": 0.019178,
     "end_time": "2022-08-23T08:37:24.604789",
     "exception": false,
     "start_time": "2022-08-23T08:37:24.585611",
     "status": "completed"
    },
    "tags": []
   },
   "outputs": [],
   "source": [
    "#from sklearn.linear_model import LogisticRegression\n"
   ]
  },
  {
   "cell_type": "code",
   "execution_count": 41,
   "id": "ad680089",
   "metadata": {
    "execution": {
     "iopub.execute_input": "2022-08-23T08:37:24.629913Z",
     "iopub.status.busy": "2022-08-23T08:37:24.628834Z",
     "iopub.status.idle": "2022-08-23T08:37:24.633574Z",
     "shell.execute_reply": "2022-08-23T08:37:24.632725Z"
    },
    "papermill": {
     "duration": 0.019042,
     "end_time": "2022-08-23T08:37:24.635530",
     "exception": false,
     "start_time": "2022-08-23T08:37:24.616488",
     "status": "completed"
    },
    "tags": []
   },
   "outputs": [],
   "source": [
    "#logreg = LogisticRegression()\n"
   ]
  },
  {
   "cell_type": "code",
   "execution_count": 42,
   "id": "ba2fa313",
   "metadata": {
    "execution": {
     "iopub.execute_input": "2022-08-23T08:37:24.660671Z",
     "iopub.status.busy": "2022-08-23T08:37:24.659855Z",
     "iopub.status.idle": "2022-08-23T08:37:24.664376Z",
     "shell.execute_reply": "2022-08-23T08:37:24.663493Z"
    },
    "papermill": {
     "duration": 0.019349,
     "end_time": "2022-08-23T08:37:24.666395",
     "exception": false,
     "start_time": "2022-08-23T08:37:24.647046",
     "status": "completed"
    },
    "tags": []
   },
   "outputs": [],
   "source": [
    "#from sklearn.linear_model import LogisticRegression\n",
    "#from sklearn import metrics\n",
    "\n",
    "#logreg = LogisticRegression()\n",
    "#logreg.fit(X_train, y_train)"
   ]
  },
  {
   "cell_type": "code",
   "execution_count": 43,
   "id": "52c870e7",
   "metadata": {
    "execution": {
     "iopub.execute_input": "2022-08-23T08:37:24.692000Z",
     "iopub.status.busy": "2022-08-23T08:37:24.691046Z",
     "iopub.status.idle": "2022-08-23T08:37:24.695482Z",
     "shell.execute_reply": "2022-08-23T08:37:24.694613Z"
    },
    "papermill": {
     "duration": 0.019086,
     "end_time": "2022-08-23T08:37:24.697544",
     "exception": false,
     "start_time": "2022-08-23T08:37:24.678458",
     "status": "completed"
    },
    "tags": []
   },
   "outputs": [],
   "source": [
    "#y_pred = logreg.predict(X_test)\n",
    "#print('Accuracy of logistic regression classifier on test set: {:.2f}'.format(logreg.score(X_test, y_test)))"
   ]
  },
  {
   "cell_type": "code",
   "execution_count": 44,
   "id": "2f668046",
   "metadata": {
    "execution": {
     "iopub.execute_input": "2022-08-23T08:37:24.722355Z",
     "iopub.status.busy": "2022-08-23T08:37:24.721990Z",
     "iopub.status.idle": "2022-08-23T08:37:24.726567Z",
     "shell.execute_reply": "2022-08-23T08:37:24.725499Z"
    },
    "papermill": {
     "duration": 0.019514,
     "end_time": "2022-08-23T08:37:24.728693",
     "exception": false,
     "start_time": "2022-08-23T08:37:24.709179",
     "status": "completed"
    },
    "tags": []
   },
   "outputs": [],
   "source": [
    "#from sklearn.metrics import confusion_matrix\n",
    "#confusion_matrix = confusion_matrix(y_test, y_pred)\n",
    "#print(confusion_matrix)"
   ]
  }
 ],
 "metadata": {
  "kernelspec": {
   "display_name": "Python 3",
   "language": "python",
   "name": "python3"
  },
  "language_info": {
   "codemirror_mode": {
    "name": "ipython",
    "version": 3
   },
   "file_extension": ".py",
   "mimetype": "text/x-python",
   "name": "python",
   "nbconvert_exporter": "python",
   "pygments_lexer": "ipython3",
   "version": "3.7.12"
  },
  "papermill": {
   "default_parameters": {},
   "duration": 1326.99643,
   "end_time": "2022-08-23T08:37:26.973577",
   "environment_variables": {},
   "exception": null,
   "input_path": "__notebook__.ipynb",
   "output_path": "__notebook__.ipynb",
   "parameters": {},
   "start_time": "2022-08-23T08:15:19.977147",
   "version": "2.3.4"
  }
 },
 "nbformat": 4,
 "nbformat_minor": 5
}
